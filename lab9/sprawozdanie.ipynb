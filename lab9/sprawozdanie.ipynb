{
 "cells": [
  {
   "cell_type": "markdown",
   "metadata": {},
   "source": [
    "# <center>Laboratorium 9<br>Metody Numeryczne</center>"
   ]
  },
  {
   "cell_type": "markdown",
   "metadata": {},
   "source": [
    "Instrukcja:  \n",
    "Na zajęciach należy wykonać poniższe zadania, a następnie sporządzić sprawozdanie zawierające odpowiedzi (w postaci kodu) z komentarzami w środowisku Jupyter Notebook i umieścić je na platformie e-learningowej."
   ]
  },
  {
   "cell_type": "markdown",
   "metadata": {},
   "source": [
    "***Materiały przygotowujące:***\n"
   ]
  },
  {
   "cell_type": "code",
   "execution_count": 48,
   "metadata": {},
   "outputs": [],
   "source": [
    "import main\n",
    "import numpy as np\n",
    "import scipy\n",
    "from scipy import optimize\n",
    "import matplotlib\n",
    "import matplotlib.pyplot as plt\n",
    "import math\n",
    "#import dill\n",
    "\n",
    "#expected = dill.load(open('expected','rb'))\n",
    "\n",
    "#results_bisection = expected['bisection']\n",
    "#f = results_bisection[12][2]\n",
    "#a = results_bisection[12][1]\n",
    "\n",
    "#f(a)"
   ]
  },
  {
   "cell_type": "markdown",
   "metadata": {},
   "source": [
    "***Temat główny:***\n",
    "\n",
    "Znajdź miejsca zerowe funkcji: \n",
    "\n",
    "f(x) = e^{-2x} + x^2 - 1 \n",
    ",\n",
    "\n",
    "metodami:\n",
    "* Bisekcji,\n",
    "* Siecznych,\n",
    "* Newtona\n",
    "\n",
    "Funkcja i jej pochodne zostały zaimplementowane w *main.py*"
   ]
  },
  {
   "cell_type": "markdown",
   "metadata": {},
   "source": [
    "***Zadanie 1.***  \n",
    "Wykonaj wykres funckji oraz jej pierwszej i drugiej pochodnej (obliczonej analitycznie) na jednym rysunku w przedziale pozwalającym na zgrubne określenie miejsc zerowych. Wykres powinien być odpowiednio opisany. Określ przedział miejsca zerowego."
   ]
  },
  {
   "cell_type": "code",
   "execution_count": 49,
   "metadata": {},
   "outputs": [
    {
     "data": {
      "image/png": "[encoded data removed]",
      "text/plain": [
       "<Figure size 432x288 with 1 Axes>"
      ]
     },
     "metadata": {
      "needs_background": "light"
     },
     "output_type": "display_data"
    }
   ],
   "source": [
    "x = np.linspace(-5, 5, 100)\n",
    "y = main.fun(x)\n",
    "d = main.dfun(x)\n",
    "dd = main.ddfun(x)\n",
    "y0 = 0*x\n",
    "plt.plot(x, y)\n",
    "plt.plot(x, d)\n",
    "plt.plot(x, dd)\n",
    "plt.plot(x, y0)\n",
    "plt.xlim([-1, 2])\n",
    "plt.ylim([-2, 5])\n",
    "plt.title(\"Wykres funkcji, pochodnej oraz drugiej pochodnej\")\n",
    "plt.xlabel(\"x\")\n",
    "plt.ylabel(\"f(x)\")\n",
    "plt.legend((\"f(x)\", \"f \\'(x)\", \"f \\'\\'(x)\", \"y = 0\"))\n",
    "plt.show()"
   ]
  },
  {
   "cell_type": "markdown",
   "metadata": {},
   "source": [
    "Z wykresu wynika, że jedno miejsce zerowe funkcji znajduje się w okolicy zera, natomiast drugie w okolicy 0.9."
   ]
  },
  {
   "cell_type": "markdown",
   "metadata": {},
   "source": [
    "***Zadanie 2.***  \n",
    "Zaimplementuj [metodę bisekcji](https://en.wikipedia.org/wiki/Bisection_method)\n",
    "\n",
    "Gwarancja zbieżności:\n",
    "\n",
    "1) funkcja jest ciągła na danym przedziale [a,b]\n",
    "\n",
    "2) funkcja na końcach przedziału przyjmuje przeciwne znaki"
   ]
  },
  {
   "cell_type": "markdown",
   "metadata": {},
   "source": [
    "***Zadanie 3.***  \n",
    "Zaimplementuj [metodę siecznych](https://en.wikipedia.org/wiki/Secant_method)\n",
    "\n",
    "Gwarancja zbieżności:\n",
    "\n",
    "1) funkcja jest ciągła na danym przedziale [a,b]\n",
    "\n",
    "2) Pierwsza i druga pochodna istnieją i są ciągłe w przedziale domkniętym [a,b]\n",
    "\n",
    "3) funkcja na końcach przedziału przyjmuje przeciwne znaki\n",
    "\n",
    "4) pierwsza i druga pochodna mają stały znak (brak eksremów lokalnych i punktów przegięcia)\n"
   ]
  },
  {
   "cell_type": "markdown",
   "metadata": {},
   "source": [
    "***Zadanie 4.***  \n",
    "Zaimplementuj [metodę Newtona](https://en.wikipedia.org/wiki/Newton%27s_method)\n",
    "\n",
    "Gwarancja zbieżności:\n",
    "\n",
    "1) funkcja jest ciągła na danym przedziale [a,b]\n",
    "\n",
    "2) Pierwsza i druga pochodna istnieją i są ciągłe w przedziale domkniętym [a,b]\n",
    "\n",
    "3) funkcja na końcach przedziału przyjmuje przeciwne znaki\n",
    "\n",
    "4) pierwsza i druga pochodna mają stały znak (brak eksremów lokalnych i punktów przegięcia)\n"
   ]
  },
  {
   "cell_type": "markdown",
   "metadata": {},
   "source": [
    "***Zadania 5.***  \n",
    "Dla głównej funkcji z zadania 1 znajdź miejsca zerowe przy użyciu:\n",
    "\n",
    "* funkcji root dostępnej w pakiecie scipy.optimize\n",
    "* funkcji fsolve dostępnej w pakiecie scipy.optimize\n"
   ]
  },
  {
   "cell_type": "code",
   "execution_count": 50,
   "metadata": {},
   "outputs": [
    {
     "name": "stdout",
     "output_type": "stream",
     "text": [
      "Pierwiastki: [0.         0.91656258]\n",
      "Pierwiastki: [0.         0.91656258]\n",
      "[ True  True]\n"
     ]
    }
   ],
   "source": [
    "# Funkcja root\n",
    "root = scipy.optimize.root(main.fun, [0, 1])\n",
    "print(f\"Pierwiastki: {root.x}\")\n",
    "\n",
    "# Funkcja fsolve\n",
    "fsolve = scipy.optimize.fsolve(main.fun, [0, 1])\n",
    "print(f\"Pierwiastki: {fsolve}\")\n",
    "\n",
    "print(root.x == fsolve)"
   ]
  },
  {
   "cell_type": "markdown",
   "metadata": {},
   "source": [
    "Znaleziono miejsca zerowe głównej funkcji za pomocą dwóch funkcji z pakietu scipy.optimize: root oraz fsolve. Funkcje te zwracają identyczne wartości."
   ]
  },
  {
   "cell_type": "markdown",
   "metadata": {},
   "source": [
    "***Zadanie 6.***  \n",
    "Dla głównej funkcji oraz przedziału zdefiniowanego z zadania 1 znajdź miejsca zerowe przy użyciu:\n",
    "\n",
    "* metody bisekcji\n",
    "* metody siecznych\n",
    "* metody Newtona\n",
    "\n",
    "z tolerancją $10^{-10}$\n",
    "\n",
    "Zbadaj dokładność(względem rozwiązania z zadania 5) i czas obliczeń metod w zależności od liczby iteracji. Wyniki przedstaw na wykresach. "
   ]
  },
  {
   "cell_type": "markdown",
   "metadata": {},
   "source": [
    "Aby wykonać to zadanie, należało podzielić przedział w którym znajdują się oba pierwiastki funkcji na mniejsze przedziały zawierające tylko 1 miejsce zerowe, ponieważ w innym wypadku dwie funkcje (bisection oraz secant) zwracają None (nie jest spełniony warunek o innych znakach na końcach przedziału)"
   ]
  },
  {
   "cell_type": "code",
   "execution_count": 51,
   "metadata": {},
   "outputs": [
    {
     "name": "stdout",
     "output_type": "stream",
     "text": [
      "Pierwiastek 1: -2.9103830456733704e-11\n",
      "Iteracje: 33\n",
      "Pierwiastek 1: 0.9165625831228681\n",
      "Iteracje: 32\n"
     ]
    }
   ],
   "source": [
    "# Metoda bisekcji\n",
    "\n",
    "root1_bisection, iterations1 = main.bisection(-2, 0.5, main.fun, 1e-10, 100)\n",
    "root2_bisection, iterations2 = main.bisection(0.5, 2, main.fun, 1e-10, 100)\n",
    "print(f\"Pierwiastek 1: {root1_bisection}\")\n",
    "print(f\"Iteracje: {iterations1}\")\n",
    "print(f\"Pierwiastek 1: {root2_bisection}\")\n",
    "print(f\"Iteracje: {iterations2}\")\n",
    "\n"
   ]
  },
  {
   "cell_type": "code",
   "execution_count": 52,
   "metadata": {},
   "outputs": [
    {
     "name": "stdout",
     "output_type": "stream",
     "text": [
      "Pierwiastek 1: 3.047641981879564e-11\n",
      "Iteracje: 19\n",
      "Pierwiastek 1: 0.9165625830609662\n",
      "Iteracje: 29\n"
     ]
    }
   ],
   "source": [
    "# Metoda siecznych\n",
    "\n",
    "root1_secant, iterations1 = main.secant(-0.25, 0.5, main.fun, 1e-10, 100)\n",
    "root2_secant, iterations2 = main.secant(0.5, 2, main.fun, 1e-10, 100)\n",
    "print(f\"Pierwiastek 1: {root1_secant}\")\n",
    "print(f\"Iteracje: {iterations1}\")\n",
    "print(f\"Pierwiastek 1: {root2_secant}\")\n",
    "print(f\"Iteracje: {iterations2}\")"
   ]
  },
  {
   "cell_type": "markdown",
   "metadata": {},
   "source": [
    "Również w przypadku metody Newtona należało podzielić przedział na mniejsze podprzedziały (zawierające tylko 1 miejsce zerowe), aby spełnić założenia metody Newtona (pierwsza i druga pochodna mają stały znak na przedziale (a, b))."
   ]
  },
  {
   "cell_type": "code",
   "execution_count": 53,
   "metadata": {},
   "outputs": [
    {
     "name": "stdout",
     "output_type": "stream",
     "text": [
      "Pierwiastek 1: -5.2465474697379417e-17\n",
      "Iteracje: 5\n",
      "Pierwiastek 2: 0.9165625831056982\n",
      "Iteracje: 4\n"
     ]
    }
   ],
   "source": [
    "# Metoda Newtona\n",
    "\n",
    "root1_newton, iterations1 = main.newton(main.fun, main.dfun, main.ddfun, -0.25, 0.4, 1e-10, 100)\n",
    "root2_newton, iterations2 = main.newton(main.fun, main.dfun, main.ddfun, 0.5, 1, 1e-10, 100)\n",
    "print(f\"Pierwiastek 1: {root1_newton}\")\n",
    "print(f\"Iteracje: {iterations1}\")\n",
    "print(f\"Pierwiastek 2: {root2_newton}\")\n",
    "print(f\"Iteracje: {iterations2}\")"
   ]
  },
  {
   "cell_type": "code",
   "execution_count": 99,
   "metadata": {},
   "outputs": [
    {
     "data": {
      "image/png": "[encoded data removed]",
      "text/plain": [
       "<Figure size 432x288 with 1 Axes>"
      ]
     },
     "metadata": {
      "needs_background": "light"
     },
     "output_type": "display_data"
    }
   ],
   "source": [
    "# Porównanie metod\n",
    "\n",
    "data1 = [np.abs(root1_bisection - root.x[0]), np.abs(root1_secant - root.x[0]), np.abs(root1_newton - root.x[0])]\n",
    "data2 = [np.abs(root2_bisection - root.x[1]), np.abs(root2_secant - root.x[1]), np.abs(root2_newton - root.x[1])]\n",
    "labels = ['Metoda bisekcji', 'Metoda siecznych', 'Metoda Newtona']\n",
    "x = np.arange(len(labels))\n",
    "_, ax = plt.subplots()\n",
    "ax.set_xticks(x)\n",
    "ax.set_xticklabels(labels)\n",
    "b1 = ax.bar(x - 0.15, data1, 0.2, label='Root = 0')\n",
    "b2 = ax.bar(x + 0.15, data2, 0.2, label='Root = 0.91')\n",
    "plt.yscale(\"log\")\n",
    "plt.ylabel('Błąd')\n",
    "plt.title('Błąd rozwiązania')\n",
    "plt.legend()\n",
    "plt.show()"
   ]
  },
  {
   "cell_type": "markdown",
   "metadata": {},
   "source": [
    "Aby porównać dokładność trzech zaimplementowanych metod, porównano je z funkcjami root oraz fsolve z pakietu scipy.optimize a następnie przedstawiono je na wykresie słupkowym.\n",
    "\n",
    "Zdecydowanie najdokładniejszą metodą okazała się być metoda Newtona, która jednocześnie wykonała się po najmniejszej liczbie iteracji. Metoda ta jest najszybciej zbieżna do rozwiązania. Podobną, dużo gorszą dokładność uzyskały zarówno metoda bisekcji jak i metoda siecznych, które do rozwiązania zbiegają dość powoli."
   ]
  },
  {
   "cell_type": "markdown",
   "metadata": {},
   "source": [
    "Porównanie czasu wykonywań:"
   ]
  },
  {
   "cell_type": "code",
   "execution_count": 104,
   "metadata": {},
   "outputs": [
    {
     "name": "stdout",
     "output_type": "stream",
     "text": [
      "599 ns ± 13 ns per loop (mean ± std. dev. of 100 runs, 100 loops each)\n",
      "688 ns ± 206 ns per loop (mean ± std. dev. of 100 runs, 100 loops each)\n",
      "611 ns ± 111 ns per loop (mean ± std. dev. of 100 runs, 100 loops each)\n",
      "The slowest run took 4.11 times longer than the fastest. This could mean that an intermediate result is being cached.\n",
      "502 ns ± 168 ns per loop (mean ± std. dev. of 100 runs, 100 loops each)\n",
      "468 ns ± 60.1 ns per loop (mean ± std. dev. of 100 runs, 100 loops each)\n",
      "459 ns ± 55.3 ns per loop (mean ± std. dev. of 100 runs, 100 loops each)\n",
      "922 ns ± 218 ns per loop (mean ± std. dev. of 100 runs, 100 loops each)\n",
      "613 ns ± 201 ns per loop (mean ± std. dev. of 100 runs, 100 loops each)\n",
      "641 ns ± 174 ns per loop (mean ± std. dev. of 100 runs, 100 loops each)\n",
      "510 ns ± 151 ns per loop (mean ± std. dev. of 100 runs, 100 loops each)\n",
      "670 ns ± 199 ns per loop (mean ± std. dev. of 100 runs, 100 loops each)\n",
      "466 ns ± 40.5 ns per loop (mean ± std. dev. of 100 runs, 100 loops each)\n",
      "572 ns ± 212 ns per loop (mean ± std. dev. of 100 runs, 100 loops each)\n",
      "The slowest run took 6.80 times longer than the fastest. This could mean that an intermediate result is being cached.\n",
      "950 ns ± 327 ns per loop (mean ± std. dev. of 100 runs, 100 loops each)\n",
      "674 ns ± 185 ns per loop (mean ± std. dev. of 100 runs, 100 loops each)\n",
      "562 ns ± 180 ns per loop (mean ± std. dev. of 100 runs, 100 loops each)\n",
      "683 ns ± 219 ns per loop (mean ± std. dev. of 100 runs, 100 loops each)\n",
      "661 ns ± 268 ns per loop (mean ± std. dev. of 100 runs, 100 loops each)\n",
      "489 ns ± 101 ns per loop (mean ± std. dev. of 100 runs, 100 loops each)\n",
      "491 ns ± 136 ns per loop (mean ± std. dev. of 100 runs, 100 loops each)\n",
      "466 ns ± 48.6 ns per loop (mean ± std. dev. of 100 runs, 100 loops each)\n",
      "461 ns ± 18.5 ns per loop (mean ± std. dev. of 100 runs, 100 loops each)\n",
      "583 ns ± 197 ns per loop (mean ± std. dev. of 100 runs, 100 loops each)\n",
      "454 ns ± 4.63 ns per loop (mean ± std. dev. of 100 runs, 100 loops each)\n",
      "475 ns ± 118 ns per loop (mean ± std. dev. of 100 runs, 100 loops each)\n",
      "The slowest run took 4.13 times longer than the fastest. This could mean that an intermediate result is being cached.\n",
      "545 ns ± 211 ns per loop (mean ± std. dev. of 100 runs, 100 loops each)\n",
      "455 ns ± 5.12 ns per loop (mean ± std. dev. of 100 runs, 100 loops each)\n",
      "568 ns ± 202 ns per loop (mean ± std. dev. of 100 runs, 100 loops each)\n",
      "510 ns ± 69.5 ns per loop (mean ± std. dev. of 100 runs, 100 loops each)\n",
      "514 ns ± 126 ns per loop (mean ± std. dev. of 100 runs, 100 loops each)\n",
      "460 ns ± 19.6 ns per loop (mean ± std. dev. of 100 runs, 100 loops each)\n",
      "The slowest run took 4.56 times longer than the fastest. This could mean that an intermediate result is being cached.\n",
      "488 ns ± 167 ns per loop (mean ± std. dev. of 100 runs, 100 loops each)\n",
      "510 ns ± 181 ns per loop (mean ± std. dev. of 100 runs, 100 loops each)\n",
      "501 ns ± 99.9 ns per loop (mean ± std. dev. of 100 runs, 100 loops each)\n",
      "475 ns ± 106 ns per loop (mean ± std. dev. of 100 runs, 100 loops each)\n",
      "460 ns ± 8.82 ns per loop (mean ± std. dev. of 100 runs, 100 loops each)\n",
      "The slowest run took 4.92 times longer than the fastest. This could mean that an intermediate result is being cached.\n",
      "686 ns ± 353 ns per loop (mean ± std. dev. of 100 runs, 100 loops each)\n",
      "The slowest run took 8.92 times longer than the fastest. This could mean that an intermediate result is being cached.\n",
      "733 ns ± 368 ns per loop (mean ± std. dev. of 100 runs, 100 loops each)\n",
      "The slowest run took 5.23 times longer than the fastest. This could mean that an intermediate result is being cached.\n",
      "661 ns ± 321 ns per loop (mean ± std. dev. of 100 runs, 100 loops each)\n",
      "468 ns ± 45.5 ns per loop (mean ± std. dev. of 100 runs, 100 loops each)\n",
      "475 ns ± 138 ns per loop (mean ± std. dev. of 100 runs, 100 loops each)\n",
      "472 ns ± 43.7 ns per loop (mean ± std. dev. of 100 runs, 100 loops each)\n",
      "456 ns ± 5.07 ns per loop (mean ± std. dev. of 100 runs, 100 loops each)\n",
      "473 ns ± 89.6 ns per loop (mean ± std. dev. of 100 runs, 100 loops each)\n",
      "530 ns ± 136 ns per loop (mean ± std. dev. of 100 runs, 100 loops each)\n",
      "The slowest run took 15.84 times longer than the fastest. This could mean that an intermediate result is being cached.\n",
      "867 ns ± 661 ns per loop (mean ± std. dev. of 100 runs, 100 loops each)\n",
      "678 ns ± 140 ns per loop (mean ± std. dev. of 100 runs, 100 loops each)\n",
      "The slowest run took 9.80 times longer than the fastest. This could mean that an intermediate result is being cached.\n",
      "660 ns ± 430 ns per loop (mean ± std. dev. of 100 runs, 100 loops each)\n",
      "462 ns ± 16.3 ns per loop (mean ± std. dev. of 100 runs, 100 loops each)\n",
      "The slowest run took 14.50 times longer than the fastest. This could mean that an intermediate result is being cached.\n",
      "554 ns ± 596 ns per loop (mean ± std. dev. of 100 runs, 100 loops each)\n"
     ]
    },
    {
     "data": {
      "image/png": "[encoded data removed]",
      "text/plain": [
       "<Figure size 432x288 with 1 Axes>"
      ]
     },
     "metadata": {
      "needs_background": "light"
     },
     "output_type": "display_data"
    }
   ],
   "source": [
    "# Metoda bisekcji\n",
    "error = []\n",
    "time = []\n",
    "x = np.arange(1, 100, 2)\n",
    "for i in x:\n",
    "    avg_time = %timeit -r 100 -n 100 -o main.bisection(-0.25, 0.5, main.fun, 1e-10, i)\n",
    "    time.append(avg_time.average)\n",
    "    error.append(avg_time.stdev)\n",
    "    \n",
    "plt.errorbar(x, time, yerr=error, marker=\"o\", linestyle='None')\n",
    "plt.ylabel(\"Czas\")\n",
    "plt.xlabel(\"Liczba iteracji\")\n",
    "plt.title(\"Czas wykonywania w zależności od liczby iteracji\")\n",
    "plt.grid()\n",
    "plt.show()"
   ]
  },
  {
   "cell_type": "code",
   "execution_count": 100,
   "metadata": {},
   "outputs": [
    {
     "name": "stdout",
     "output_type": "stream",
     "text": [
      "615 ns ± 70.7 ns per loop (mean ± std. dev. of 100 runs, 100 loops each)\n",
      "902 ns ± 71.8 ns per loop (mean ± std. dev. of 100 runs, 100 loops each)\n",
      "The slowest run took 4.21 times longer than the fastest. This could mean that an intermediate result is being cached.\n",
      "545 ns ± 214 ns per loop (mean ± std. dev. of 100 runs, 100 loops each)\n",
      "485 ns ± 99.8 ns per loop (mean ± std. dev. of 100 runs, 100 loops each)\n",
      "479 ns ± 47.6 ns per loop (mean ± std. dev. of 100 runs, 100 loops each)\n",
      "The slowest run took 5.12 times longer than the fastest. This could mean that an intermediate result is being cached.\n",
      "546 ns ± 234 ns per loop (mean ± std. dev. of 100 runs, 100 loops each)\n",
      "615 ns ± 250 ns per loop (mean ± std. dev. of 100 runs, 100 loops each)\n",
      "The slowest run took 13.07 times longer than the fastest. This could mean that an intermediate result is being cached.\n",
      "835 ns ± 589 ns per loop (mean ± std. dev. of 100 runs, 100 loops each)\n",
      "The slowest run took 7.08 times longer than the fastest. This could mean that an intermediate result is being cached.\n",
      "632 ns ± 415 ns per loop (mean ± std. dev. of 100 runs, 100 loops each)\n",
      "The slowest run took 7.02 times longer than the fastest. This could mean that an intermediate result is being cached.\n",
      "716 ns ± 341 ns per loop (mean ± std. dev. of 100 runs, 100 loops each)\n",
      "The slowest run took 20.57 times longer than the fastest. This could mean that an intermediate result is being cached.\n",
      "797 ns ± 911 ns per loop (mean ± std. dev. of 100 runs, 100 loops each)\n",
      "505 ns ± 106 ns per loop (mean ± std. dev. of 100 runs, 100 loops each)\n",
      "The slowest run took 6.61 times longer than the fastest. This could mean that an intermediate result is being cached.\n",
      "1.07 µs ± 449 ns per loop (mean ± std. dev. of 100 runs, 100 loops each)\n",
      "619 ns ± 218 ns per loop (mean ± std. dev. of 100 runs, 100 loops each)\n",
      "549 ns ± 161 ns per loop (mean ± std. dev. of 100 runs, 100 loops each)\n",
      "The slowest run took 5.80 times longer than the fastest. This could mean that an intermediate result is being cached.\n",
      "842 ns ± 328 ns per loop (mean ± std. dev. of 100 runs, 100 loops each)\n",
      "527 ns ± 151 ns per loop (mean ± std. dev. of 100 runs, 100 loops each)\n",
      "The slowest run took 5.37 times longer than the fastest. This could mean that an intermediate result is being cached.\n",
      "670 ns ± 274 ns per loop (mean ± std. dev. of 100 runs, 100 loops each)\n",
      "514 ns ± 149 ns per loop (mean ± std. dev. of 100 runs, 100 loops each)\n",
      "The slowest run took 9.77 times longer than the fastest. This could mean that an intermediate result is being cached.\n",
      "922 ns ± 580 ns per loop (mean ± std. dev. of 100 runs, 100 loops each)\n",
      "488 ns ± 82.7 ns per loop (mean ± std. dev. of 100 runs, 100 loops each)\n",
      "The slowest run took 4.65 times longer than the fastest. This could mean that an intermediate result is being cached.\n",
      "551 ns ± 200 ns per loop (mean ± std. dev. of 100 runs, 100 loops each)\n",
      "487 ns ± 38.7 ns per loop (mean ± std. dev. of 100 runs, 100 loops each)\n",
      "519 ns ± 172 ns per loop (mean ± std. dev. of 100 runs, 100 loops each)\n",
      "491 ns ± 104 ns per loop (mean ± std. dev. of 100 runs, 100 loops each)\n",
      "480 ns ± 16.8 ns per loop (mean ± std. dev. of 100 runs, 100 loops each)\n",
      "489 ns ± 93.5 ns per loop (mean ± std. dev. of 100 runs, 100 loops each)\n",
      "470 ns ± 18.9 ns per loop (mean ± std. dev. of 100 runs, 100 loops each)\n",
      "The slowest run took 5.04 times longer than the fastest. This could mean that an intermediate result is being cached.\n",
      "499 ns ± 189 ns per loop (mean ± std. dev. of 100 runs, 100 loops each)\n",
      "524 ns ± 133 ns per loop (mean ± std. dev. of 100 runs, 100 loops each)\n",
      "477 ns ± 29.8 ns per loop (mean ± std. dev. of 100 runs, 100 loops each)\n",
      "The slowest run took 4.92 times longer than the fastest. This could mean that an intermediate result is being cached.\n",
      "576 ns ± 228 ns per loop (mean ± std. dev. of 100 runs, 100 loops each)\n",
      "478 ns ± 12.2 ns per loop (mean ± std. dev. of 100 runs, 100 loops each)\n",
      "The slowest run took 6.34 times longer than the fastest. This could mean that an intermediate result is being cached.\n",
      "531 ns ± 278 ns per loop (mean ± std. dev. of 100 runs, 100 loops each)\n",
      "716 ns ± 161 ns per loop (mean ± std. dev. of 100 runs, 100 loops each)\n",
      "775 ns ± 210 ns per loop (mean ± std. dev. of 100 runs, 100 loops each)\n",
      "508 ns ± 127 ns per loop (mean ± std. dev. of 100 runs, 100 loops each)\n",
      "506 ns ± 137 ns per loop (mean ± std. dev. of 100 runs, 100 loops each)\n",
      "489 ns ± 66.9 ns per loop (mean ± std. dev. of 100 runs, 100 loops each)\n",
      "478 ns ± 26.1 ns per loop (mean ± std. dev. of 100 runs, 100 loops each)\n",
      "512 ns ± 126 ns per loop (mean ± std. dev. of 100 runs, 100 loops each)\n",
      "470 ns ± 6.22 ns per loop (mean ± std. dev. of 100 runs, 100 loops each)\n",
      "477 ns ± 98 ns per loop (mean ± std. dev. of 100 runs, 100 loops each)\n",
      "484 ns ± 81.6 ns per loop (mean ± std. dev. of 100 runs, 100 loops each)\n",
      "463 ns ± 39.3 ns per loop (mean ± std. dev. of 100 runs, 100 loops each)\n",
      "470 ns ± 41.7 ns per loop (mean ± std. dev. of 100 runs, 100 loops each)\n",
      "576 ns ± 185 ns per loop (mean ± std. dev. of 100 runs, 100 loops each)\n",
      "The slowest run took 5.28 times longer than the fastest. This could mean that an intermediate result is being cached.\n",
      "715 ns ± 346 ns per loop (mean ± std. dev. of 100 runs, 100 loops each)\n",
      "The slowest run took 7.16 times longer than the fastest. This could mean that an intermediate result is being cached.\n",
      "586 ns ± 292 ns per loop (mean ± std. dev. of 100 runs, 100 loops each)\n",
      "The slowest run took 4.15 times longer than the fastest. This could mean that an intermediate result is being cached.\n",
      "557 ns ± 209 ns per loop (mean ± std. dev. of 100 runs, 100 loops each)\n"
     ]
    },
    {
     "data": {
      "image/png": "[encoded data removed]",
      "text/plain": [
       "<Figure size 432x288 with 1 Axes>"
      ]
     },
     "metadata": {
      "needs_background": "light"
     },
     "output_type": "display_data"
    }
   ],
   "source": [
    "# Metoda siecznych\n",
    "error = []\n",
    "time = []\n",
    "x = np.arange(1, 100, 2)\n",
    "for i in x:\n",
    "    avg_time = %timeit -r 100 -n 100 -o main.secant(-0.25, 0.5, main.fun, 1e-10, i)\n",
    "    time.append(avg_time.average)\n",
    "    error.append(avg_time.stdev)\n",
    "    \n",
    "plt.errorbar(x, time, yerr=error, marker=\"o\", linestyle='None')\n",
    "plt.ylabel(\"Czas\")\n",
    "plt.xlabel(\"Liczba iteracji\")\n",
    "plt.title(\"Czas wykonywania w zależności od liczby iteracji\")\n",
    "plt.grid()\n",
    "plt.show()"
   ]
  },
  {
   "cell_type": "code",
   "execution_count": 79,
   "metadata": {},
   "outputs": [
    {
     "name": "stdout",
     "output_type": "stream",
     "text": [
      "The slowest run took 4.47 times longer than the fastest. This could mean that an intermediate result is being cached.\n",
      "2.44 µs ± 1.03 µs per loop (mean ± std. dev. of 100 runs, 100 loops each)\n",
      "1.01 µs ± 153 ns per loop (mean ± std. dev. of 100 runs, 100 loops each)\n",
      "1.19 µs ± 385 ns per loop (mean ± std. dev. of 100 runs, 100 loops each)\n",
      "The slowest run took 4.15 times longer than the fastest. This could mean that an intermediate result is being cached.\n",
      "1.66 µs ± 507 ns per loop (mean ± std. dev. of 100 runs, 100 loops each)\n",
      "The slowest run took 4.65 times longer than the fastest. This could mean that an intermediate result is being cached.\n",
      "2.59 µs ± 1.25 µs per loop (mean ± std. dev. of 100 runs, 100 loops each)\n",
      "2.6 µs ± 1.07 µs per loop (mean ± std. dev. of 100 runs, 100 loops each)\n",
      "2.5 µs ± 800 ns per loop (mean ± std. dev. of 100 runs, 100 loops each)\n",
      "The slowest run took 4.41 times longer than the fastest. This could mean that an intermediate result is being cached.\n",
      "3.14 µs ± 1.27 µs per loop (mean ± std. dev. of 100 runs, 100 loops each)\n",
      "The slowest run took 7.54 times longer than the fastest. This could mean that an intermediate result is being cached.\n",
      "2.75 µs ± 1.72 µs per loop (mean ± std. dev. of 100 runs, 100 loops each)\n",
      "The slowest run took 17.45 times longer than the fastest. This could mean that an intermediate result is being cached.\n",
      "2.89 µs ± 3.58 µs per loop (mean ± std. dev. of 100 runs, 100 loops each)\n",
      "The slowest run took 8.75 times longer than the fastest. This could mean that an intermediate result is being cached.\n",
      "2.67 µs ± 1.79 µs per loop (mean ± std. dev. of 100 runs, 100 loops each)\n",
      "The slowest run took 11.14 times longer than the fastest. This could mean that an intermediate result is being cached.\n",
      "2.84 µs ± 2.31 µs per loop (mean ± std. dev. of 100 runs, 100 loops each)\n",
      "The slowest run took 6.01 times longer than the fastest. This could mean that an intermediate result is being cached.\n",
      "2.68 µs ± 1.28 µs per loop (mean ± std. dev. of 100 runs, 100 loops each)\n",
      "The slowest run took 8.94 times longer than the fastest. This could mean that an intermediate result is being cached.\n",
      "3.06 µs ± 1.88 µs per loop (mean ± std. dev. of 100 runs, 100 loops each)\n",
      "2.72 µs ± 1.1 µs per loop (mean ± std. dev. of 100 runs, 100 loops each)\n",
      "1.64 µs ± 525 ns per loop (mean ± std. dev. of 100 runs, 100 loops each)\n",
      "1.53 µs ± 404 ns per loop (mean ± std. dev. of 100 runs, 100 loops each)\n",
      "1.39 µs ± 246 ns per loop (mean ± std. dev. of 100 runs, 100 loops each)\n",
      "3 µs ± 1.03 µs per loop (mean ± std. dev. of 100 runs, 100 loops each)\n",
      "The slowest run took 5.36 times longer than the fastest. This could mean that an intermediate result is being cached.\n",
      "3.67 µs ± 1.65 µs per loop (mean ± std. dev. of 100 runs, 100 loops each)\n",
      "The slowest run took 10.09 times longer than the fastest. This could mean that an intermediate result is being cached.\n",
      "4.02 µs ± 2.8 µs per loop (mean ± std. dev. of 100 runs, 100 loops each)\n",
      "The slowest run took 7.38 times longer than the fastest. This could mean that an intermediate result is being cached.\n",
      "3.17 µs ± 2.06 µs per loop (mean ± std. dev. of 100 runs, 100 loops each)\n",
      "The slowest run took 10.32 times longer than the fastest. This could mean that an intermediate result is being cached.\n",
      "3.21 µs ± 2.55 µs per loop (mean ± std. dev. of 100 runs, 100 loops each)\n",
      "The slowest run took 13.14 times longer than the fastest. This could mean that an intermediate result is being cached.\n",
      "4.54 µs ± 3.78 µs per loop (mean ± std. dev. of 100 runs, 100 loops each)\n",
      "The slowest run took 9.88 times longer than the fastest. This could mean that an intermediate result is being cached.\n",
      "3.38 µs ± 1.94 µs per loop (mean ± std. dev. of 100 runs, 100 loops each)\n",
      "The slowest run took 7.26 times longer than the fastest. This could mean that an intermediate result is being cached.\n",
      "1.97 µs ± 1.18 µs per loop (mean ± std. dev. of 100 runs, 100 loops each)\n",
      "The slowest run took 12.84 times longer than the fastest. This could mean that an intermediate result is being cached.\n",
      "2 µs ± 1.78 µs per loop (mean ± std. dev. of 100 runs, 100 loops each)\n",
      "The slowest run took 9.96 times longer than the fastest. This could mean that an intermediate result is being cached.\n",
      "1.91 µs ± 1.37 µs per loop (mean ± std. dev. of 100 runs, 100 loops each)\n",
      "The slowest run took 4.99 times longer than the fastest. This could mean that an intermediate result is being cached.\n",
      "2.13 µs ± 897 ns per loop (mean ± std. dev. of 100 runs, 100 loops each)\n",
      "The slowest run took 6.95 times longer than the fastest. This could mean that an intermediate result is being cached.\n",
      "1.68 µs ± 975 ns per loop (mean ± std. dev. of 100 runs, 100 loops each)\n",
      "The slowest run took 7.33 times longer than the fastest. This could mean that an intermediate result is being cached.\n",
      "1.75 µs ± 1.07 µs per loop (mean ± std. dev. of 100 runs, 100 loops each)\n",
      "The slowest run took 4.22 times longer than the fastest. This could mean that an intermediate result is being cached.\n",
      "1.81 µs ± 736 ns per loop (mean ± std. dev. of 100 runs, 100 loops each)\n",
      "The slowest run took 7.82 times longer than the fastest. This could mean that an intermediate result is being cached.\n",
      "1.86 µs ± 1.44 µs per loop (mean ± std. dev. of 100 runs, 100 loops each)\n",
      "The slowest run took 7.67 times longer than the fastest. This could mean that an intermediate result is being cached.\n",
      "2.16 µs ± 1.23 µs per loop (mean ± std. dev. of 100 runs, 100 loops each)\n",
      "The slowest run took 5.71 times longer than the fastest. This could mean that an intermediate result is being cached.\n",
      "2.85 µs ± 1.15 µs per loop (mean ± std. dev. of 100 runs, 100 loops each)\n",
      "The slowest run took 6.93 times longer than the fastest. This could mean that an intermediate result is being cached.\n",
      "2.26 µs ± 1.22 µs per loop (mean ± std. dev. of 100 runs, 100 loops each)\n",
      "The slowest run took 7.34 times longer than the fastest. This could mean that an intermediate result is being cached.\n",
      "1.84 µs ± 1.05 µs per loop (mean ± std. dev. of 100 runs, 100 loops each)\n",
      "1.72 µs ± 564 ns per loop (mean ± std. dev. of 100 runs, 100 loops each)\n",
      "The slowest run took 6.87 times longer than the fastest. This could mean that an intermediate result is being cached.\n",
      "1.63 µs ± 904 ns per loop (mean ± std. dev. of 100 runs, 100 loops each)\n",
      "The slowest run took 7.39 times longer than the fastest. This could mean that an intermediate result is being cached.\n",
      "1.65 µs ± 941 ns per loop (mean ± std. dev. of 100 runs, 100 loops each)\n",
      "The slowest run took 12.05 times longer than the fastest. This could mean that an intermediate result is being cached.\n",
      "1.66 µs ± 1.57 µs per loop (mean ± std. dev. of 100 runs, 100 loops each)\n",
      "The slowest run took 8.42 times longer than the fastest. This could mean that an intermediate result is being cached.\n",
      "2.07 µs ± 1.27 µs per loop (mean ± std. dev. of 100 runs, 100 loops each)\n",
      "1.61 µs ± 434 ns per loop (mean ± std. dev. of 100 runs, 100 loops each)\n",
      "The slowest run took 4.71 times longer than the fastest. This could mean that an intermediate result is being cached.\n",
      "1.77 µs ± 811 ns per loop (mean ± std. dev. of 100 runs, 100 loops each)\n",
      "2.68 µs ± 978 ns per loop (mean ± std. dev. of 100 runs, 100 loops each)\n",
      "The slowest run took 8.27 times longer than the fastest. This could mean that an intermediate result is being cached.\n",
      "3.04 µs ± 1.73 µs per loop (mean ± std. dev. of 100 runs, 100 loops each)\n",
      "The slowest run took 6.40 times longer than the fastest. This could mean that an intermediate result is being cached.\n",
      "1.82 µs ± 940 ns per loop (mean ± std. dev. of 100 runs, 100 loops each)\n",
      "The slowest run took 9.12 times longer than the fastest. This could mean that an intermediate result is being cached.\n",
      "1.82 µs ± 1.32 µs per loop (mean ± std. dev. of 100 runs, 100 loops each)\n",
      "The slowest run took 7.74 times longer than the fastest. This could mean that an intermediate result is being cached.\n",
      "1.63 µs ± 992 ns per loop (mean ± std. dev. of 100 runs, 100 loops each)\n",
      "The slowest run took 7.78 times longer than the fastest. This could mean that an intermediate result is being cached.\n",
      "1.61 µs ± 1.01 µs per loop (mean ± std. dev. of 100 runs, 100 loops each)\n"
     ]
    },
    {
     "data": {
      "image/png": "[encoded data removed]",
      "text/plain": [
       "<Figure size 432x288 with 1 Axes>"
      ]
     },
     "metadata": {
      "needs_background": "light"
     },
     "output_type": "display_data"
    }
   ],
   "source": [
    "error = []\n",
    "time = []\n",
    "x = np.arange(1, 100, 2)\n",
    "for i in x:\n",
    "    avg_time = %timeit -r 100 -n 100 -o main.newton(main.fun, main.dfun, main.ddfun, -0.25, 0.2, 1e-10, i)\n",
    "    time.append(avg_time.average)\n",
    "    error.append(avg_time.stdev)\n",
    "    \n",
    "plt.errorbar(x, time,yerr=error, marker=\"o\", linestyle='None')\n",
    "plt.ylabel(\"Czas [s]\")\n",
    "plt.xlabel(\"Liczba iteracji\")\n",
    "plt.title(\"Czas wykonywania w zależności od liczby iteracji\")\n",
    "plt.grid()\n",
    "plt.show()"
   ]
  },
  {
   "cell_type": "markdown",
   "metadata": {},
   "source": [
    "Metoda Newtona, mimo że dała najlepszy wynik, wykonuje się znacznie dłużej od metody siecznych i bisekcji, które wykonują się w bardzo podobnym czasie. Co dziwne natomiast, czas wykonywania się różnych metod w zależności od ilości iteracji jest mniej więcej stały. Może to wynikać z faktu, że funkcje przerywają liczenie po osiągnięciu zadanej przez nas dokładności."
   ]
  },
  {
   "cell_type": "markdown",
   "metadata": {},
   "source": [
    "Wnioski:\n",
    "\n",
    "Dzięki ćwiczeniom można było zapoznać się z różnymi, numerycznymi metodami znajdowania miejsc zerowych funkcji. Tymi metodami były: metoda bisekcji, metoda siecznych oraz metoda Newtona. Z przeprowadzonych analiz wynika, że najdokładniejszy rezultat daje metoda Newtona, kosztem niestety najdłuższego czasu wykonywania się. Metody bisekcji oraz siecznych były zbliżone zarówno pod względem dokładności, jak i czasu wykonywania. Wynika to z szybkości zbieżności tych metod do rozwiązania."
   ]
  }
 ],
 "metadata": {
  "kernelspec": {
   "display_name": "Python 3",
   "language": "python",
   "name": "python3"
  },
  "language_info": {
   "codemirror_mode": {
    "name": "ipython",
    "version": 3
   },
   "file_extension": ".py",
   "mimetype": "text/x-python",
   "name": "python",
   "nbconvert_exporter": "python",
   "pygments_lexer": "ipython3",
   "version": "3.9.0"
  }
 },
 "nbformat": 4,
 "nbformat_minor": 2
}
