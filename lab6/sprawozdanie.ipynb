{
 "cells": [
  {
   "cell_type": "markdown",
   "metadata": {},
   "source": [
    "# <center>Rozwiązywanie układów równań</center>"
   ]
  },
  {
   "cell_type": "markdown",
   "metadata": {},
   "source": [
    "Instrukcja:\n",
    "Na zajęciach należy wykonać poniższe zadania, a następnie sporządzić sprawozdanie zawierające odpowiedzi (w postaci kodu) z komentarzami w środowisku Jupyter Notebook i umieścić je na platformie e-learningowej.   "
   ]
  },
  {
   "cell_type": "code",
   "execution_count": 22,
   "metadata": {},
   "outputs": [],
   "source": [
    "import main\n",
    "\n",
    "import numpy as np\n",
    "import scipy \n",
    "import matplotlib\n",
    "import matplotlib.pyplot as plt\n",
    "from typing import Union, List, Tuple"
   ]
  },
  {
   "cell_type": "markdown",
   "metadata": {},
   "source": [
    "**Cel zajęć:** Celem zajęć jest zapoznanie się z numerycznymi metodami rozwiązywania układów równań liniowych. To podstawowe zadanie algebry liniowej które macierzowo możemy zapisać jako:  \n",
    "  \n",
    "$\n",
    "\\mathbf{Ax}=\\mathbf{b}\n",
    "$ \n",
    "  \n",
    "gdzie $\\mathbf{A}$ - macierz współczynników, $\\mathbf{x}$ - wektor zmiennych a $\\mathbf{b}$ - wektor wyników prawej strony równania.  \n",
    "\n",
    "Do oceny jakości rozwiązania będziemy wykorzystywać residuum (ang. *residual*)\n",
    "$\n",
    "\\mathbf{r}=\\mathbf{b}-\\mathbf{Ax}\n",
    "$ \n",
    "  "
   ]
  },
  {
   "cell_type": "markdown",
   "metadata": {},
   "source": [
    "***Zadanie 1***   \n",
    " \n",
    "1. Zaimplementuj funkcje *random\\_matrix\\_Ab* według opisu w pliku main.py generującą macierz kwadratową $\\mathbf{A}$ i wektor $\\mathbf{b}$ o zadanych wymiarach odpowiednio $m\\times m$, $m\\times 1$ i o wartościach losowych. W tym celu skorzystaj z funkcji *[randint](https://docs.scipy.org/doc/numpy-1.15.1/reference/generated/numpy.random.randint.html)*. W razie podania nieprawidłowej wartości m funkcja ma zwrócić wartość None.\n",
    "\n",
    "2. Wygeneruj takie macierze dla $m=10,\\ 20,\\ 50,\\ 100,\\ 1000$. \n"
   ]
  },
  {
   "cell_type": "code",
   "execution_count": 23,
   "metadata": {},
   "outputs": [],
   "source": [
    "def random_matrix_Ab(m:int):\n",
    "    \"\"\"Funkcja tworząca zestaw składający się z macierzy A (m,m) i wektora b (m,)  zawierających losowe wartości\n",
    "    Parameters:\n",
    "    m(int): rozmiar macierzy\n",
    "    Results:\n",
    "    (np.ndarray, np.ndarray): macierz o rozmiarze (m,m) i wektorem (m,)\n",
    "                Jeżeli dane wejściowe niepoprawne funkcja zwraca None\n",
    "    \"\"\"\n",
    "    if isinstance(m, int) and m > 0:\n",
    "        matrix = np.random.randint(0, 100, size = (m, m))\n",
    "        vector = np.random.randint(0, 100, size = (m,))\n",
    "        return matrix, vector\n",
    "    else:\n",
    "        return None\n",
    "\n",
    "A1, b1 = main.random_matrix_Ab(10)\n",
    "A2, b2 = main.random_matrix_Ab(20)\n",
    "A3, b3 = main.random_matrix_Ab(50)\n",
    "A4, b4 = main.random_matrix_Ab(100)\n",
    "A5, b5 = main.random_matrix_Ab(1000)"
   ]
  },
  {
   "cell_type": "markdown",
   "metadata": {},
   "source": [
    "Zaimplementowano funkcję random_matrix_Ab, która generuje macierz kwadratową A o rozmiarze m x m i wektor b o wymiarach m x 1  o wartościach losowych. Wygenerowano takie macierze i wektory dla m = 10, 20, 50, 100, 1000."
   ]
  },
  {
   "cell_type": "markdown",
   "metadata": {},
   "source": [
    "***Zadanie 2***   \n",
    " \n",
    "1. Dla macierzy i wektorów wygenerowanych w poprzednim zadaniu znajdź rozwiązanie układu równań $\\mathbf{Ax}=\\mathbf{b}$ używając funkcji *[solve](https://docs.scipy.org/doc/numpy-1.15.1/reference/generated/numpy.linalg.solve.html?highlight=solve#numpy.linalg.solve)*. \n",
    "\n",
    "2. Zaimplementuj normę residual_norm zgodnie z opisem z main.py (używając *[norm](https://docs.scipy.org/doc/numpy-1.15.1/reference/generated/numpy.linalg.norm.html?highlight=norm#numpy.linalg.norm)*) sprawdź dokładność otrzymanego rozwiązania (oblicz normę residuum).\n",
    "\n",
    "3. Określ uwarunkowanie macierzy $\\mathbf{A}$ przy pomocy funkcji *[cond](https://docs.scipy.org/doc/numpy-1.15.1/reference/generated/numpy.linalg.cond.html?highlight=cond#numpy.linalg.cond)*. \n",
    "\n",
    "4. Odpowiedź na pytanie czy zakres wartości oraz wymiary macierzy mają wpływ na jakość otrzymanych wyników? \n",
    "  "
   ]
  },
  {
   "cell_type": "code",
   "execution_count": 24,
   "metadata": {},
   "outputs": [
    {
     "name": "stdout",
     "output_type": "stream",
     "text": [
      "Normy residuum dla macierzy o rozmiarach:\n",
      "m = 10: 7.034014214903312e-14\n",
      "m = 20: 2.8536939038336873e-13\n",
      "m = 50: 2.151771657133368e-12\n",
      "m = 100: 2.884814445323148e-12\n",
      "m = 1000: 4.799469073126727e-10 \n",
      "\n",
      "Uwarunkowania macierzy A:\n",
      "m = 10: 38.5085047713268\n",
      "m = 20: 178.6012558895039\n",
      "m = 50: 1507.874575742603\n",
      "m = 100: 1326.6315355592612\n",
      "m = 1000: 104479.13736133226 \n",
      "\n"
     ]
    }
   ],
   "source": [
    "def residual_norm(A:np.ndarray,x:np.ndarray, b:np.ndarray):\n",
    "    \"\"\"Funkcja obliczająca normę residuum dla równania postaci:\n",
    "    Ax = b\n",
    "\n",
    "      Parameters:\n",
    "      A: macierz A (m,m) zawierająca współczynniki równania \n",
    "      x: wektor x (m.) zawierający rozwiązania równania \n",
    "      b: wektor b (m,) zawierający współczynniki po prawej stronie równania\n",
    "\n",
    "      Results:\n",
    "      (float)- wartość normy residuom dla podanych parametrów\"\"\"\n",
    "    if isinstance(A, np.ndarray) and isinstance (x, np.ndarray) and isinstance(b, np.ndarray):\n",
    "        if x.shape == b.shape and A.shape[1] == A.shape[0]:\n",
    "            A1 = A @ np.transpose(x)\n",
    "            res = b - A1\n",
    "            return np.linalg.norm(res)\n",
    "        else:\n",
    "            return None\n",
    "    else:\n",
    "        return None\n",
    "\n",
    "x1 = np.linalg.solve(A1, b1)\n",
    "x2 = np.linalg.solve(A2, b2)\n",
    "x3 = np.linalg.solve(A3, b3)\n",
    "x4 = np.linalg.solve(A4, b4)\n",
    "x5 = np.linalg.solve(A5, b5)\n",
    "\n",
    "print(\"Normy residuum dla macierzy o rozmiarach:\")\n",
    "print(\"m = 10:\", main.residual_norm(A1, x1, b1))\n",
    "print(\"m = 20:\", main.residual_norm(A2, x2, b2))\n",
    "print(\"m = 50:\", main.residual_norm(A3, x3, b3))\n",
    "print(\"m = 100:\", main.residual_norm(A4, x4, b4))\n",
    "print(\"m = 1000:\", main.residual_norm(A5, x5, b5), \"\\n\")\n",
    "\n",
    "print(\"Uwarunkowania macierzy A:\")\n",
    "print(\"m = 10:\", np.linalg.cond(A1))\n",
    "print(\"m = 20:\", np.linalg.cond(A2))\n",
    "print(\"m = 50:\", np.linalg.cond(A3))\n",
    "print(\"m = 100:\", np.linalg.cond(A4))\n",
    "print(\"m = 1000:\", np.linalg.cond(A5), \"\\n\")\n",
    "\n"
   ]
  },
  {
   "cell_type": "markdown",
   "metadata": {},
   "source": [
    "Zaimplementowano funkcję residual_norm, która oblicza normę residuum dla równania postaci: Ax = b. Następnie, za pomocą funkcji solve, znaleziono rozwiązania układów Ax = b dla macierzy A i wektorów b z poprzedniego zadania. Wykorzystując funckje residual_norm, obliczono normy residuum dla macierzy, a za pomocą funkcji cond określono uwarunkowania macierzy A.\n",
    "\n",
    "Z przeprowadzonej jasno wynika, że wraz ze zwiększaniem rozmiaru macierzy, rośnie także błąd obliczeń. Może to wynikać z błędów zaokrągleń powstających podczas rozwiązywania układu równań. Zakres wartości również wpływa na błąd, co można stwierdzić po zwiększających się współczynnikach uwarunkowania macierzy, które sprawiają, że macierz staje się bardziej podatna na błędy."
   ]
  },
  {
   "cell_type": "markdown",
   "metadata": {},
   "source": [
    "***Zadanie 3***  \n",
    "Rozkład dowolnej macierzy metodą  *[dekompozycji na wartości singularne](https://pl.wikipedia.org/wiki/Rozk%C5%82ad_wed%C5%82ug_warto%C5%9Bci_osobliwych)* można w Pythonie przeprowadzić przy pomocy funkcji *[svd](https://docs.scipy.org/doc/numpy-1.15.1/reference/generated/numpy.linalg.svd.html)*. Rozkład dla przykładowej macierzy obrazuje kod: "
   ]
  },
  {
   "cell_type": "code",
   "execution_count": 25,
   "metadata": {},
   "outputs": [
    {
     "name": "stdout",
     "output_type": "stream",
     "text": [
      "[6.4807407 0.        0.       ]\n",
      "Macierz A:\n",
      " [[1 2 3]\n",
      " [1 2 3]\n",
      " [1 2 3]]\n",
      "Macierz odtworzona z SVD:\n",
      " [[1. 2. 3.]\n",
      " [1. 2. 3.]\n",
      " [1. 2. 3.]]\n"
     ]
    }
   ],
   "source": [
    "import numpy as np\n",
    "import numpy.linalg as nplin\n",
    "\n",
    "A = np.array([[1,2,3],[1,2,3],[1,2,3]])\n",
    "\n",
    "# Użycie rozkładu SVD na macierzy A\n",
    "U,S,V = nplin.svd(A)\n",
    "\n",
    "print(S)\n",
    "# Odtworzenie macierzy A przy pomocy metody SVD\n",
    "A2 = np.dot(U * S, V)\n",
    " \n",
    "print(\"Macierz A:\\n {0}\".format(A))\n",
    "print(\"Macierz odtworzona z SVD:\\n {0}\".format(A2))"
   ]
  },
  {
   "cell_type": "markdown",
   "metadata": {},
   "source": [
    "Wykonaj następujące kroki:\n",
    "\n",
    "1. Zdefiniuj funkcję inicjalizujące wektory *wartości singularnych* w następujący sposób:\n",
    "    - wektor nierosnących wartości singularnych w postaci wektora przestrzeni logarytmicznej,\n",
    "    - wektor nierosnących wartości singularnych, gdzie jedna wartość jest znacznie większa od pozostałych,\n",
    "    - wektor nierosnących wartości, gdzie jedna wartość jest znacznie mniejsza od pozostałych. \n",
    "    \n",
    "    W celu inicjalizacji takich wektorów zaimplementuje funkcje:  \n",
    "    - *log\\_sing\\_value* zgodnie z opisem w main.py i użyciu funkcji *[logspace](https://docs.scipy.org/doc/numpy-1.15.1/reference/generated/numpy.logspace.html?highlight=logspace#numpy.logspace)*\n",
    "    - *order\\_sing\\_value* zgodnie z opisem w main.py\n",
    "\n",
    "2. Zdefiniuj funkcję *create_matrix_from_A* z pliku main, która dla zadanej macierzy A z *zadania 1* i wektorów warości singularnych z punktu 1. tego zadania będzie zwracać odtworzoną macierz z podmienionym wektorem warości singularnych przy pomocy metody SVD, jak pokazanow w przykładzie wyżej. \n",
    "\n",
    "3. Dla otrzymanych macierzy oblicz wartości współczynnika uwarunkowania. \n",
    "\n",
    "4. Odpowiedz na pytanie: czy konieczne jest wyliczanie macierzy aby to zrobić?\n",
    "\n",
    "5. Dla każdego $m$ sporządź wykres normy residuów rozwiązań i funkcji uwarunkowania macierzy. \n",
    "\n",
    "\n"
   ]
  },
  {
   "cell_type": "code",
   "execution_count": 26,
   "metadata": {},
   "outputs": [
    {
     "data": {
      "image/png": "[encoded data removed]",
      "text/plain": [
       "<Figure size 432x288 with 1 Axes>"
      ]
     },
     "metadata": {
      "needs_background": "light"
     },
     "output_type": "display_data"
    }
   ],
   "source": [
    "def log_sing_value(n:int, min_order:Union[int,float], max_order:Union[int,float]):\n",
    "    \"\"\"Funkcja generująca wektor wartości singularnych rozłożonych w skali logarytmiczne\n",
    "    \n",
    "        Parameters:\n",
    "         n(np.ndarray): rozmiar wektora wartości singularnych (n,), gdzie n>0\n",
    "         min_order(int,float): rząd najmniejszej wartości w wektorze wartości singularnych\n",
    "         max_order(int,float): rząd największej wartości w wektorze wartości singularnych\n",
    "         Results:\n",
    "         np.ndarray - wektor nierosnących wartości logarytmicznych o wymiarze (n,) zawierający wartości logarytmiczne na zadanym przedziale\n",
    "         \"\"\"\n",
    "    if isinstance(n, int) and isinstance(min_order, (int, float)) and isinstance(max_order, (int, float)):\n",
    "        if max_order > min_order and n > 0:\n",
    "            return np.flip(np.logspace(min_order, max_order, n))\n",
    "        else:\n",
    "            return None\n",
    "    else:\n",
    "        return None\n",
    "    \n",
    "def order_sing_value(n:int, order:Union[int,float] = 2, site:str = 'gre'):\n",
    "    \"\"\"Funkcja generująca wektor losowych wartości singularnych (n,) będących wartościami zmiennoprzecinkowymi losowanymi przy użyciu funkcji np.random.rand(n)*10. \n",
    "        A następnie ustawiająca wartość minimalną (site = 'low') albo maksymalną (site = 'gre') na wartość o  10**order razy mniejszą/większą.\n",
    "    \n",
    "        Parameters:\n",
    "        n(np.ndarray): rozmiar wektora wartości singularnych (n,), gdzie n>0\n",
    "        order(int,float): rząd przeskalowania wartości skrajnej\n",
    "        site(str): zmienna wskazująca stronnę zmiany:\n",
    "            - site = 'low' -> sing_value[-1] * 10**order\n",
    "            - site = 'gre' -> sing_value[0] * 10**order\n",
    "        \n",
    "        Results:\n",
    "        np.ndarray - wektor wartości singularnych o wymiarze (n,) zawierający wartości logarytmiczne na zadanym przedziale\n",
    "        \"\"\"\n",
    "    if isinstance(n, int) and isinstance(order, (int, float)) and isinstance(site, str):\n",
    "        if n > 0:\n",
    "            vector = np.random.rand(n)*10\n",
    "            if site == \"gre\":\n",
    "                max_idx = np.argmax(vector)\n",
    "                vector[max_idx] += 10 ** order\n",
    "            elif site == 'low':\n",
    "                min_idx = np.argmin(vector)\n",
    "                vector[min_idx] -= 10 ** order\n",
    "            else:\n",
    "                return None\n",
    "            sorted = np.sort(vector)\n",
    "            return np.flip(sorted)\n",
    "        else:\n",
    "            return None    \n",
    "    else:\n",
    "        return None\n",
    "\n",
    "def create_matrix_from_A(A:np.ndarray, sing_value:np.ndarray):\n",
    "    \"\"\"Funkcja generująca rozkład SVD dla macierzy A i zwracająca otworzenie macierzy A z wykorzystaniem zdefiniowanego wektora warości singularnych\n",
    "\n",
    "            Parameters:\n",
    "            A(np.ndarray): rozmiarz macierzy A (m,m)\n",
    "            sing_value(np.ndarray): wektor wartości singularnych (m,)\n",
    "\n",
    "\n",
    "            Results:\n",
    "            np.ndarray: macierz (m,m) utworzoną na podstawie rozkładu SVD zadanej macierzy A z podmienionym wektorem wartości singularnych na wektor sing_valu \"\"\"\n",
    "    if isinstance(A, np.ndarray) and isinstance(sing_value, np.ndarray):\n",
    "        if A.shape[0] == sing_value.shape[0] and A.shape[1] == A.shape[0]:\n",
    "            U, _, V = np.linalg.svd(A)\n",
    "            return np.dot(U * sing_value, V)\n",
    "        else:\n",
    "            return None\n",
    "    else:\n",
    "        return None\n",
    "\n",
    "m = [10, 20, 50, 100, 1000]\n",
    "matrix_log = []\n",
    "matrix_gre = []\n",
    "matrix_low = []\n",
    "\n",
    "for size in m:\n",
    "    A, b = main.random_matrix_Ab(size)\n",
    "    sing_log = main.log_sing_value(size, 0, 100)\n",
    "    sing_gre = main.order_sing_value(size, site = \"gre\")\n",
    "    sing_low = main.order_sing_value(size, site = \"low\")\n",
    "\n",
    "    A_log = main.create_matrix_from_A(A, sing_log)\n",
    "    matrix_log.append(np.linalg.cond(A_log))\n",
    "\n",
    "    A_gre = main.create_matrix_from_A(A, sing_gre)\n",
    "    matrix_gre.append(np.linalg.cond(A_gre))\n",
    "\n",
    "    A_low = main.create_matrix_from_A(A, sing_log)\n",
    "    matrix_low.append(np.linalg.cond(A_low))\n",
    "\n",
    "plt.scatter(m, matrix_log)\n",
    "plt.title(\"Współczynnik uwarunkowania dla wartości singularnych rozłożonych logarytmicznie\")\n",
    "plt.xlabel('Rozmiar macierzy')\n",
    "plt.ylabel(\"Współczynnik uwarunkowania\")\n",
    "plt.xscale(\"log\")\n",
    "plt.yscale(\"log\")\n",
    "plt.grid()"
   ]
  },
  {
   "cell_type": "code",
   "execution_count": 27,
   "metadata": {},
   "outputs": [
    {
     "data": {
      "image/png": "[encoded data removed]",
      "text/plain": [
       "<Figure size 432x288 with 1 Axes>"
      ]
     },
     "metadata": {
      "needs_background": "light"
     },
     "output_type": "display_data"
    }
   ],
   "source": [
    "plt.scatter(m, matrix_gre)\n",
    "plt.title(\"Współczynnik uwarunkowania dla wartości singularnych z wartością maksymalną\")\n",
    "plt.xlabel('Rozmiar macierzy')\n",
    "plt.ylabel(\"Współczynnik uwarunkowania\")\n",
    "plt.xscale(\"log\")\n",
    "plt.yscale(\"log\")\n",
    "plt.grid()"
   ]
  },
  {
   "cell_type": "code",
   "execution_count": 28,
   "metadata": {},
   "outputs": [
    {
     "data": {
      "image/png": "[encoded data removed]",
      "text/plain": [
       "<Figure size 432x288 with 1 Axes>"
      ]
     },
     "metadata": {
      "needs_background": "light"
     },
     "output_type": "display_data"
    }
   ],
   "source": [
    "plt.scatter(m, matrix_low)\n",
    "plt.title(\"Współczynnik uwarunkowania dla wartości singularnych z wartością minimalną\")\n",
    "plt.xlabel('Rozmiar macierzy')\n",
    "plt.ylabel(\"Współczynnik uwarunkowania\")\n",
    "plt.xscale(\"log\")\n",
    "plt.yscale(\"log\")\n",
    "plt.grid()"
   ]
  },
  {
   "cell_type": "code",
   "execution_count": 30,
   "metadata": {},
   "outputs": [
    {
     "data": {
      "image/png": "[encoded data removed]",
      "text/plain": [
       "<Figure size 432x288 with 1 Axes>"
      ]
     },
     "metadata": {
      "needs_background": "light"
     },
     "output_type": "display_data"
    }
   ],
   "source": [
    "m = [10, 20, 50, 100, 1000]\n",
    "matrix_log = []\n",
    "matrix_gre = []\n",
    "matrix_low = []\n",
    "\n",
    "for size in m:\n",
    "    A, b = main.random_matrix_Ab(size)\n",
    "    sing_log = main.log_sing_value(size, 0, 100)\n",
    "    sing_gre = main.order_sing_value(size, site = \"gre\")\n",
    "    sing_low = main.order_sing_value(size, site = \"low\")\n",
    "\n",
    "    A_log = main.create_matrix_from_A(A, sing_log)\n",
    "    x = np.linalg.solve(A_log, b)\n",
    "    matrix_log.append(main.residual_norm(A_log, x, b))\n",
    "\n",
    "    A_gre = main.create_matrix_from_A(A, sing_gre)\n",
    "    x = np.linalg.solve(A_gre, b)\n",
    "    matrix_gre.append(main.residual_norm(A_gre, x, b))\n",
    "\n",
    "    A_low = main.create_matrix_from_A(A, sing_low)\n",
    "    x = np.linalg.solve(A_low, b)\n",
    "    matrix_low.append(main.residual_norm(A_low, x, b))\n",
    "\n",
    "plt.scatter(m, matrix_log)\n",
    "plt.title(\"Norma residuum dla wartości singularnych rozłożonych logarytmicznie\")\n",
    "plt.xlabel('Rozmiar macierzy')\n",
    "plt.ylabel(\"Norma residuum\")\n",
    "plt.xscale(\"log\")\n",
    "plt.yscale(\"log\")\n",
    "plt.grid()"
   ]
  },
  {
   "cell_type": "code",
   "execution_count": 31,
   "metadata": {},
   "outputs": [
    {
     "data": {
      "image/png": "[encoded data removed]",
      "text/plain": [
       "<Figure size 432x288 with 1 Axes>"
      ]
     },
     "metadata": {
      "needs_background": "light"
     },
     "output_type": "display_data"
    }
   ],
   "source": [
    "plt.scatter(m, matrix_gre)\n",
    "plt.title(\"Norma residuum dla wartości singularnych z wartością maksymalną\")\n",
    "plt.xlabel('Rozmiar macierzy')\n",
    "plt.ylabel(\"Norma residuum\")\n",
    "plt.xscale(\"log\")\n",
    "plt.yscale(\"log\")\n",
    "plt.grid()"
   ]
  },
  {
   "cell_type": "code",
   "execution_count": 32,
   "metadata": {},
   "outputs": [
    {
     "data": {
      "image/png": "[encoded data removed]",
      "text/plain": [
       "<Figure size 432x288 with 1 Axes>"
      ]
     },
     "metadata": {
      "needs_background": "light"
     },
     "output_type": "display_data"
    }
   ],
   "source": [
    "plt.scatter(m, matrix_low)\n",
    "plt.title(\"Norma residuum dla wartości singularnych z wartością minimalną\")\n",
    "plt.xlabel('Rozmiar macierzy')\n",
    "plt.ylabel(\"Norma residuum\")\n",
    "plt.xscale(\"log\")\n",
    "plt.yscale(\"log\")\n",
    "plt.grid()"
   ]
  },
  {
   "cell_type": "markdown",
   "metadata": {},
   "source": [
    "Zaimplementowano funkcję log_sing_value, która zwraca wektor nierosnących wartości singularnych w przestrzeni logarytmicznej, oraz funkcję order_sing_value, która zwraca wektor nierosnących wartości, gdzie jedna wartość jest znacznie większa/mniejsza od drugiej (w zależności od podanego parametru). Poza tym zaimplementowano funkcję create_matrix_from_A, która dla zadanej macierzy A z zadania 1 i wektorów wartości singularnych z punktu 1 tego zadania zwraca odtworzoną macierz z podmienionym wektorem wartości singularnych, przy pomocy metody SVD.\n",
    "\n",
    "W dalszej części zadania obliczono współczynnik uwarunkowania dla otrzymanych macierzy.\n",
    "\n",
    "Ad.4 - Nie jest konieczne wyliczanie macierzy jeśli znamy wartości singularne. Wystarczy obliczyć współczynnik ze wzoru $\\kappa = \\frac{s_1}{s_n}$\n",
    "\n",
    "Dla każdego m sporządzono wykres normy residuów rozwiązań i funkcji uwarunkowania macierzy."
   ]
  },
  {
   "cell_type": "markdown",
   "metadata": {},
   "source": [
    "\n",
    "Wnioski:\n",
    "\n",
    "Laboratoria umożliwiły zapoznanie się z numerycznymi metodami rozwiązywania układów równań liniowych. Pozwoliły także utrwalić wiedzę, czym jest uwarunkowanie macierzy, norma residuum oraz wektor wartości singularnych."
   ]
  },
  {
   "cell_type": "markdown",
   "metadata": {},
   "source": [
    "Materiały uzupełniające:\n",
    "- [Scipy Lecture Notes](http://www.scipy-lectures.org/index.html)\n",
    "- [NumPy for Matlab users](https://docs.scipy.org/doc/numpy/user/numpy-for-matlab-users.html#numpy-for-matlab-users)\n",
    "- [Python Tutorial - W3Schools](https://www.w3schools.com/python/default.asp)\n",
    "- [NumPy](https://www.numpy.org)\n",
    "- [Matplotlib](https://matplotlib.org/)\n",
    "- [Anaconda](https://www.anaconda.com/)\n",
    "- [Learn Python for Data Science](https://www.datacamp.com/learn-python-with-anaconda?utm_source=Anaconda_download&utm_campaign=datacamp_training&utm_medium=banner)\n",
    "- [Learn Python](https://www.learnpython.org/)\n",
    "- [Wujek Google](https://google.pl) i [Ciocia Wikipedia](https://pl.wikipedia.org/wiki/Wikipedia:Strona_g%C5%82%C3%B3wna)"
   ]
  }
 ],
 "metadata": {
  "interpreter": {
   "hash": "38740d3277777e2cd7c6c2cc9d8addf5118fdf3f82b1b39231fd12aeac8aee8b"
  },
  "kernelspec": {
   "display_name": "Python 3.9.0 64-bit",
   "name": "python3"
  },
  "language_info": {
   "codemirror_mode": {
    "name": "ipython",
    "version": 3
   },
   "file_extension": ".py",
   "mimetype": "text/x-python",
   "name": "python",
   "nbconvert_exporter": "python",
   "pygments_lexer": "ipython3",
   "version": "3.9.0"
  }
 },
 "nbformat": 4,
 "nbformat_minor": 2
}
