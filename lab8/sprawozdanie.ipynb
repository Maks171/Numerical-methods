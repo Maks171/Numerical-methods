{
 "cells": [
  {
   "cell_type": "markdown",
   "metadata": {},
   "source": [
    "# <center>Rozwiązywanie układów równań</center>\n",
    "# <center>Metody iteracyjne</center>"
   ]
  },
  {
   "cell_type": "markdown",
   "metadata": {},
   "source": [
    "Instrukcja:\n",
    "Na zajęciach należy wykonać poniższe zadania, a następnie sporządzić sprawozdanie zawierające odpowiedzi (w postaci kodu) z komentarzami w środowisku Jupyter Notebook i umieścić je na platformie e-learningowej.   "
   ]
  },
  {
   "cell_type": "code",
   "execution_count": 2,
   "metadata": {},
   "outputs": [],
   "source": [
    "import main\n",
    "import scipy as sp\n",
    "import numpy as np\n",
    "import scipy.sparse.linalg as sp_linalg\n",
    "import numpy.linalg as np_linalg\n",
    "import matplotlib\n",
    "import matplotlib.pyplot as plt\n",
    "%load_ext memory_profiler"
   ]
  },
  {
   "cell_type": "markdown",
   "metadata": {},
   "source": [
    "**Cel zajęć:**  \n",
    "Celem zajęć jest zapoznanie się z iteracyjnymi metodami rozwiązywania układów równań liniowych w postaci macierzowej. Metody iteracyjne, w przeciwieństwie do analitycznych, nie zwracają dokładnego rozwiązania, a jedynie jego przybliżenie. Przy spełnionych kryteriach, przybliżenia obliczane w kolejnych iteracjach są zbieżne do dokładnego rozwiązania. Metody iteracyjne znajdują swoje zastosowanie szczególnie przy dużych układach równań postaci: \n",
    "   \n",
    "$\n",
    "\\mathbf{Ax}=\\mathbf{b}\n",
    "$ \n",
    "  \n",
    "gdzie $\\mathbf{A}$ to macierz współczynników z lewej strony równania, wektor $\\mathbf{x}$ jest wektorem zmiennych a wektor $\\mathbf{b}$ wyników prawej strony równania.  \n",
    "\n",
    "Do oceny jakości rozwiązania będziemy wykorzystywać residuum (ang. *residual*)\n",
    "$\n",
    "\\mathbf{r}=\\mathbf{b}-\\mathbf{Ax}\n",
    "$ \n",
    "  "
   ]
  },
  {
   "cell_type": "markdown",
   "metadata": {},
   "source": [
    "***Zadanie 1***   \n",
    "Zdefiniuję funkcję *diag_dominant_matrix_A_b*, przyjmującą paramter całkowity $m>0$ która zwróci:\n",
    "- macierz diagonalnie zdominowana $\\mathbf{A}$ o wymiarach $m \\times m$ (wyrazy na przekątnej sa wieksze co do modułu od sumy pozostałych w danej kolumnie i wierszu)\n",
    "- wektor $\\mathbf{b}$ o wymiarach $m \\times 1$ \n",
    " \n",
    "o losowych wartościach całkowitych\n",
    "\n",
    "Dodatkowo zdefiniuj funkcje *is_diag_dominant* sprawdzającą czy zadana macierz jest diagonalnie zdominowana"
   ]
  },
  {
   "cell_type": "markdown",
   "metadata": {},
   "source": [
    "***Zadanie 2***   \n",
    "Zdefiniuję funkcję *symmetric_matrix_A_b*, przyjmującą paramter całkowity $m>0$ która zwróci:\n",
    "- symetryczną macierz $\\mathbf{A}$ o wymiarach $m \\times m$ (wyrazy symetryczne względnej przekątnej są sobie równe)\n",
    "- wektor $\\mathbf{b}$ o wymiarach $m \\times 1$ \n",
    " \n",
    "o losowych wartościach całkowitych\n",
    "\n",
    "Dodatkowo zdefiniuj funkcje is_symmetric sprawdzającą czy zadana macierz jest symetryczna"
   ]
  },
  {
   "cell_type": "markdown",
   "metadata": {},
   "source": [
    "***Zadanie 3***   \n",
    "Zdefiniuję następujące układy równań:\n",
    "\n",
    "a) $\\mathbf{A_1}$, $\\mathbf{b_1}$: gdzie $\\mathbf{A_1}$ jest macierzą o wymiarach $m \\times m$, a $\\mathbf{b_1}$ wektorem $m \\times 1$, $m = 10$\n",
    "\n",
    "b) $\\mathbf{A_2}$, $\\mathbf{b_2}$: gdzie $\\mathbf{A_2}$ jest macierzą **diagonalnie zdominowaną** o wymiarach$m \\times m$, a $\\mathbf{b_2}$ wektorem $m \\times 1$, $m = 10$\n",
    " \n",
    "c) $\\mathbf{A_3}$, $\\mathbf{b_3}$: gdzie $\\mathbf{A_3}$ jest macierzą **symetryczną** o wymiarach $m \\times m$, a $\\mathbf{b_3}$ wektorem $m \\times 1$, $m = 10$   \n",
    " \n",
    "**Wskazówka**: Do generacji macierzy użyj metody *random_matrix_Ab* z lab6 oraz metod *diag_dominant_matrix_A_b* i *symmetric_matrix_A_b*"
   ]
  },
  {
   "cell_type": "code",
   "execution_count": 3,
   "metadata": {},
   "outputs": [],
   "source": [
    "A1, b1 = main.random_matrix_Ab(10)\n",
    "A2, b2 = main.diag_dominant_matrix_A_b(10)\n",
    "A3, b3 = main.symmetric_matrix_A_b(10)"
   ]
  },
  {
   "cell_type": "markdown",
   "metadata": {},
   "source": [
    "***Zadanie 4***   \n",
    "Zaimplementuj iteracyjną metodę *solve_jacobi*, rozwiązującą układ równań metodą Jacobiego zgodnie z dokumentacją w pliku *main.py*.\n",
    "Szczegóły metody zostały przedstawione na wykładzie."
   ]
  },
  {
   "cell_type": "markdown",
   "metadata": {},
   "source": [
    "***Zadanie 5***   \n",
    "Rozwiąż układ równań z Zadania 3 podpunkt a) przy pomocy:\n",
    "\n",
    "- funkcji *[solve](https://docs.scipy.org/doc/numpy-1.15.1/reference/generated/numpy.linalg.solve.html?highlight=solve#numpy.linalg.solve)* z biblioteki numpy\n",
    "\n",
    "- zaimplementowanej iteracyjnej metody *solve_jacobi*\n",
    "\n",
    "- iteracyjnej metody *[gradientów sprzężonych](https://docs.scipy.org/doc/scipy/reference/generated/scipy.sparse.linalg.cg.html)*\n",
    " z biblioteki scipy\n",
    "\n",
    "- iteracyjnej metody *[GMRES](https://docs.scipy.org/doc/scipy/reference/generated/scipy.sparse.linalg.gmres.html)*\n",
    " z biblioteki scipy\n",
    "\n",
    "Przed każdą metodą sprawdź czy warunki dotyczące macierzy dla danej metody są spełnione. Zbadaj dokładność i czas obliczeń metod w zależności od liczby iteracji. Wyniki przedstaw na wykresach."
   ]
  },
  {
   "cell_type": "code",
   "execution_count": 88,
   "metadata": {},
   "outputs": [
    {
     "name": "stdout",
     "output_type": "stream",
     "text": [
      "2.032201911969635e-13\n"
     ]
    }
   ],
   "source": [
    "# Funkcja solve\n",
    "if A1.shape[0] == A1.shape[1]:\n",
    "    result = np.linalg.solve(A1, b1)\n",
    "    norm = main.residual_norm(A1, result, b1)\n",
    "    print(norm)"
   ]
  },
  {
   "cell_type": "code",
   "execution_count": 5,
   "metadata": {},
   "outputs": [
    {
     "name": "stdout",
     "output_type": "stream",
     "text": [
      "34.44 µs ± 8.087 µs per loop (mean ± std. dev. of 10 runs, 1000 loops each)\n"
     ]
    }
   ],
   "source": [
    "%%timeit -n 1000 -r 10 -p 4\n",
    "result = np.linalg.solve(A1, b1)\n",
    "norm = main.residual_norm(A1, result, b1)"
   ]
  },
  {
   "cell_type": "code",
   "execution_count": 61,
   "metadata": {},
   "outputs": [
    {
     "name": "stdout",
     "output_type": "stream",
     "text": [
      "Macierz nie spełnia wymagań\n"
     ]
    }
   ],
   "source": [
    "# Funkcja solve_jacobi\n",
    "if main.is_diag_dominant(A1):\n",
    "    iter  = [i+1 for i in range(50)]\n",
    "    x_init = np.zeros((10, 1))\n",
    "    error = []\n",
    "    for i in iter:\n",
    "        result, end = main.solve_jacobi(A1, b1, x_init, maxiter=i, epsilon=2.2e-16)\n",
    "        error.append(main.residual_norm(A1, result, b1))\n",
    "    plt.scatter(iter, error)\n",
    "    plt.title(\"Metoda Jacobiego\")\n",
    "    plt.xlabel(\"Liczba iteracji\")\n",
    "    plt.ylabel(\"Norma residuum\")\n",
    "    plt.yscale('log')\n",
    "    plt.grid()\n",
    "    plt.show()\n",
    "else:\n",
    "    print(\"Macierz nie spełnia wymagań\")"
   ]
  },
  {
   "cell_type": "markdown",
   "metadata": {},
   "source": [
    "Macierz nie jest diagonalnie dominująca, więc nie spełnia ona warunków metody Jacobiego.\n"
   ]
  },
  {
   "cell_type": "code",
   "execution_count": 20,
   "metadata": {},
   "outputs": [
    {
     "name": "stdout",
     "output_type": "stream",
     "text": [
      "Macierz nie spełnia wymagań\n"
     ]
    }
   ],
   "source": [
    "# Metoda gradientów sprzężonych\n",
    "error = []\n",
    "def callback_1(X):\n",
    "    error.append(np.linalg.norm(b1 - A1 @ X))\n",
    "\n",
    "if main.is_symmetric(A1) and np.all(np.linalg.eigvals(A1) > 0):\n",
    "    result, bool= sp.sparse.linalg.cg(A1, b1, maxiter=15, callback=callback_1, atol=2.2e-16)\n",
    "    print(f\"Zbieżność rozwiązania - {bool}\")\n",
    "    m = len(error)\n",
    "    x = np.arange(1, m + 1, 1)\n",
    "    plt.scatter(x, error)\n",
    "    plt.title(\"Metoda gradientów sprzężonych\")\n",
    "    plt.xlabel(\"Liczba iteracji\")\n",
    "    plt.ylabel(\"Norma residuum\")\n",
    "    plt.yscale('log')\n",
    "    plt.grid()\n",
    "    plt.show()\n",
    "else:\n",
    "    print(\"Macierz nie spełnia wymagań\")   "
   ]
  },
  {
   "cell_type": "markdown",
   "metadata": {},
   "source": [
    "Macierz nie jest symetryczna i dodatnio określona, więc nie spełnia warunków metody gradientów sprzężonych."
   ]
  },
  {
   "cell_type": "code",
   "execution_count": 60,
   "metadata": {},
   "outputs": [
    {
     "name": "stdout",
     "output_type": "stream",
     "text": [
      "Zbieżność rozwiązania - 0\n"
     ]
    },
    {
     "data": {
      "image/png": "[encoded data removed]",
      "text/plain": [
       "<Figure size 432x288 with 1 Axes>"
      ]
     },
     "metadata": {
      "needs_background": "light"
     },
     "output_type": "display_data"
    }
   ],
   "source": [
    "# Algorytm GMRES\n",
    "error = []\n",
    "def callback_1(X):\n",
    "    error.append(X)\n",
    "\n",
    "result, bool = sp.sparse.linalg.gmres(A1, b1, maxiter=10, callback=callback_1, atol=2.2e-16, callback_type='pr_norm')\n",
    "print(f\"Zbieżność rozwiązania - {bool}\")\n",
    "length = len(error)\n",
    "x = [i + 1 for i in range(length)]\n",
    "plt.scatter(x, error)\n",
    "plt.title(\"Metoda GRMES\")\n",
    "plt.xlabel(\"Liczba iteracji\")\n",
    "plt.ylabel(\"Norma residuum\")\n",
    "plt.yscale('log')\n",
    "plt.grid()\n",
    "plt.show()\n"
   ]
  },
  {
   "cell_type": "markdown",
   "metadata": {},
   "source": [
    "Wraz ze zwiększaniem iteracji, dokładność nieznacznie rośnie, aż do pewnego momentu (10), gdzie dokładność znacząco rośnie."
   ]
  },
  {
   "cell_type": "code",
   "execution_count": 75,
   "metadata": {},
   "outputs": [
    {
     "name": "stdout",
     "output_type": "stream",
     "text": [
      "601 µs ± 201 µs per loop (mean ± std. dev. of 5 runs, 10 loops each)\n",
      "812 µs ± 282 µs per loop (mean ± std. dev. of 5 runs, 10 loops each)\n",
      "735 µs ± 355 µs per loop (mean ± std. dev. of 5 runs, 10 loops each)\n",
      "664 µs ± 263 µs per loop (mean ± std. dev. of 5 runs, 10 loops each)\n",
      "502 µs ± 142 µs per loop (mean ± std. dev. of 5 runs, 10 loops each)\n",
      "608 µs ± 201 µs per loop (mean ± std. dev. of 5 runs, 10 loops each)\n",
      "485 µs ± 167 µs per loop (mean ± std. dev. of 5 runs, 10 loops each)\n",
      "604 µs ± 208 µs per loop (mean ± std. dev. of 5 runs, 10 loops each)\n",
      "529 µs ± 103 µs per loop (mean ± std. dev. of 5 runs, 10 loops each)\n"
     ]
    },
    {
     "data": {
      "image/png": "[encoded data removed]",
      "text/plain": [
       "<Figure size 432x288 with 1 Axes>"
      ]
     },
     "metadata": {
      "needs_background": "light"
     },
     "output_type": "display_data"
    }
   ],
   "source": [
    "time = []\n",
    "err = []\n",
    "for i in range(1, 10):\n",
    "    average_time = %timeit -r 5 -n 10 -o sp.sparse.linalg.gmres(A1, b1, maxiter=i, atol=2.2e-16)\n",
    "    time.append(average_time.average)\n",
    "    err.append(average_time.stdev)\n",
    "x = [i for i in range(1, 10)]\n",
    "plt.errorbar(x, time, yerr=err, linestyle=\"None\", marker=\"o\")\n",
    "plt.title(\"Algorytm GMRES\")\n",
    "plt.xlabel(\"Liczba iteracji\")\n",
    "plt.ylabel(\"Czas wykonywania [s]\")\n",
    "plt.grid()\n",
    "plt.show()\n"
   ]
  },
  {
   "cell_type": "markdown",
   "metadata": {},
   "source": [
    "Czas wykonywania algorytmu jest względnie stały, oscyluje według pewnej prostej"
   ]
  },
  {
   "cell_type": "markdown",
   "metadata": {},
   "source": [
    "***Zadanie 6***     \n",
    "Rozwiąż układ równań z Zadania 3 podpunkt b) przy pomocy:\n",
    "\n",
    "- funkcji *[solve](https://docs.scipy.org/doc/numpy-1.15.1/reference/generated/numpy.linalg.solve.html?highlight=solve#numpy.linalg.solve)* z biblioteki numpy\n",
    "\n",
    "- zaimplementowanej iteracyjnej metody *solve_jacobi*\n",
    "\n",
    "- iteracyjnej metody *[gradientów sprzężonych](https://docs.scipy.org/doc/scipy/reference/generated/scipy.sparse.linalg.cg.html)*\n",
    " z biblioteki scipy\n",
    "\n",
    "- iteracyjnej metody *[GMRES](https://docs.scipy.org/doc/scipy/reference/generated/scipy.sparse.linalg.gmres.html)*\n",
    " z biblioteki scipy\n",
    "\n",
    "Przed każdą metodą sprawdź czy warunki dotyczące macierzy dla danej metody są spełnione. Zbadaj dokładność i czas obliczeń metod w zależności od liczby iteracji. Wyniki przedstaw na wykresach."
   ]
  },
  {
   "cell_type": "code",
   "execution_count": 89,
   "metadata": {},
   "outputs": [
    {
     "name": "stdout",
     "output_type": "stream",
     "text": [
      "2.220446049250313e-15\n"
     ]
    }
   ],
   "source": [
    "# Funkcja solve\n",
    "if A2.shape[0] == A2.shape[1]:\n",
    "    result = np.linalg.solve(A2, b2)\n",
    "    norm = main.residual_norm(A2, result, b2)\n",
    "    print(norm)"
   ]
  },
  {
   "cell_type": "code",
   "execution_count": 11,
   "metadata": {},
   "outputs": [
    {
     "name": "stdout",
     "output_type": "stream",
     "text": [
      "28.63 µs ± 7.306 µs per loop (mean ± std. dev. of 10 runs, 1000 loops each)\n"
     ]
    }
   ],
   "source": [
    "%%timeit -n 1000 -r 10 -p 4\n",
    "result = np.linalg.solve(A2, b2)\n",
    "norm = main.residual_norm(A2, result, b2)"
   ]
  },
  {
   "cell_type": "code",
   "execution_count": 62,
   "metadata": {},
   "outputs": [
    {
     "data": {
      "image/png": "[encoded data removed]",
      "text/plain": [
       "<Figure size 432x288 with 1 Axes>"
      ]
     },
     "metadata": {
      "needs_background": "light"
     },
     "output_type": "display_data"
    }
   ],
   "source": [
    "# Funkcja solve_jacobi\n",
    "if main.is_diag_dominant(A2):\n",
    "    iter  = [i+1 for i in range(50)]\n",
    "    x_init = np.zeros((10, 1))\n",
    "    error = []\n",
    "    for i in iter:\n",
    "        result, end = main.solve_jacobi(A2, b2, x_init, maxiter=i, epsilon=2.2e-16)\n",
    "        error.append(main.residual_norm(A2, result, b2))\n",
    "    plt.scatter(iter, error)\n",
    "    plt.title(\"Metoda Jacobiego\")\n",
    "    plt.xlabel(\"Liczba iteracji\")\n",
    "    plt.ylabel(\"Norma residuum\")\n",
    "    plt.yscale('log')\n",
    "    plt.grid()\n",
    "    plt.show()\n",
    "else:\n",
    "    print(\"Macierz nie spełnia wymagań\")"
   ]
  },
  {
   "cell_type": "markdown",
   "metadata": {},
   "source": [
    "Dokładność metody Jacobiego zwiększa się, aż do pewnej wartości iteracji (około 38), gdzie ustala się ona na pewnym poziomie."
   ]
  },
  {
   "cell_type": "code",
   "execution_count": 77,
   "metadata": {},
   "outputs": [
    {
     "name": "stdout",
     "output_type": "stream",
     "text": [
      "417 µs ± 64.8 µs per loop (mean ± std. dev. of 5 runs, 10 loops each)\n",
      "435 µs ± 141 µs per loop (mean ± std. dev. of 5 runs, 10 loops each)\n",
      "763 µs ± 288 µs per loop (mean ± std. dev. of 5 runs, 10 loops each)\n",
      "1.06 ms ± 268 µs per loop (mean ± std. dev. of 5 runs, 10 loops each)\n",
      "1.02 ms ± 225 µs per loop (mean ± std. dev. of 5 runs, 10 loops each)\n",
      "924 µs ± 255 µs per loop (mean ± std. dev. of 5 runs, 10 loops each)\n",
      "942 µs ± 183 µs per loop (mean ± std. dev. of 5 runs, 10 loops each)\n",
      "1.09 ms ± 221 µs per loop (mean ± std. dev. of 5 runs, 10 loops each)\n",
      "1.16 ms ± 147 µs per loop (mean ± std. dev. of 5 runs, 10 loops each)\n"
     ]
    },
    {
     "data": {
      "image/png": "[encoded data removed]",
      "text/plain": [
       "<Figure size 432x288 with 1 Axes>"
      ]
     },
     "metadata": {
      "needs_background": "light"
     },
     "output_type": "display_data"
    }
   ],
   "source": [
    "time = []\n",
    "err = []\n",
    "size = [10, 20, 30, 40, 50, 60, 70, 90, 100]\n",
    "x_init = np.zeros((10, 1))\n",
    "for i in size:\n",
    "    average_time = %timeit -r 5 -n 10 -o main.solve_jacobi(A2, b2,x_init, maxiter=i, epsilon=2.2e-16)\n",
    "    time.append(average_time.average)\n",
    "    err.append(average_time.stdev)\n",
    "\n",
    "plt.errorbar(size, time, yerr=err, linestyle=\"None\", marker=\"o\")\n",
    "plt.title(\"Metoda Jacobiego\")\n",
    "plt.xlabel(\"Liczba iteracji\")\n",
    "plt.ylabel(\"Czas wykonywania [s]\")\n",
    "plt.grid()\n",
    "plt.show()"
   ]
  },
  {
   "cell_type": "markdown",
   "metadata": {},
   "source": [
    "Czas wykonywania rośnie wraz ze wzrostem liczby iteracji."
   ]
  },
  {
   "cell_type": "code",
   "execution_count": 66,
   "metadata": {},
   "outputs": [
    {
     "name": "stdout",
     "output_type": "stream",
     "text": [
      "Macierz nie spełnia wymagań\n"
     ]
    }
   ],
   "source": [
    "# Metoda gradientów sprzężonych\n",
    "error = []\n",
    "def callback_1(X):\n",
    "    error.append(np.linalg.norm(b2 - A2 @ X))\n",
    "\n",
    "if main.is_symmetric(A2) and np.all(np.linalg.eigvals(A2) > 0):\n",
    "    result, bool= sp.sparse.linalg.cg(A2, b2, maxiter=15, callback=callback_1, atol=2.2e-16)\n",
    "    print(f\"Zbieżność rozwiązania - {bool}\")\n",
    "    m = len(error)\n",
    "    x = np.arange(1, m + 1, 1)\n",
    "    plt.scatter(x, error)\n",
    "    plt.title(\"Metoda gradientów sprzężonych\")\n",
    "    plt.xlabel(\"Liczba iteracji\")\n",
    "    plt.ylabel(\"Norma residuum\")\n",
    "    plt.yscale('log')\n",
    "    plt.grid()\n",
    "    plt.show()\n",
    "else:\n",
    "    print(\"Macierz nie spełnia wymagań\")      "
   ]
  },
  {
   "cell_type": "markdown",
   "metadata": {},
   "source": [
    "Macierz nie jest symetryczna i dodatnio określona, więc nie spełnia warunków metody gradientów sprzężonych."
   ]
  },
  {
   "cell_type": "code",
   "execution_count": 48,
   "metadata": {},
   "outputs": [
    {
     "name": "stdout",
     "output_type": "stream",
     "text": [
      "Zbieżność rozwiązania - 0\n"
     ]
    },
    {
     "data": {
      "image/png": "[encoded data removed]",
      "text/plain": [
       "<Figure size 432x288 with 1 Axes>"
      ]
     },
     "metadata": {
      "needs_background": "light"
     },
     "output_type": "display_data"
    }
   ],
   "source": [
    "# Algorytm GMRES\n",
    "error = []\n",
    "def callback_1(X):\n",
    "    error.append(X)\n",
    "\n",
    "result, bool = sp.sparse.linalg.gmres(A2, b2, maxiter=10, callback=callback_1, atol=2.2e-16, callback_type='pr_norm')\n",
    "print(f\"Zbieżność rozwiązania - {bool}\")\n",
    "length = len(error)\n",
    "x = [i + 1 for i in range(length)]\n",
    "plt.scatter(x, error)\n",
    "plt.title(\"Metoda GMRES\")\n",
    "plt.xlabel(\"Liczba iteracji\")\n",
    "plt.ylabel(\"Norma residuum\")\n",
    "plt.yscale('log')\n",
    "plt.grid()\n",
    "plt.show()\n"
   ]
  },
  {
   "cell_type": "markdown",
   "metadata": {},
   "source": [
    "Wraz ze wzrostem liczby iteracji, rośnie dokładność"
   ]
  },
  {
   "cell_type": "code",
   "execution_count": 84,
   "metadata": {},
   "outputs": [
    {
     "name": "stdout",
     "output_type": "stream",
     "text": [
      "496 µs ± 169 µs per loop (mean ± std. dev. of 5 runs, 10 loops each)\n",
      "358 µs ± 132 µs per loop (mean ± std. dev. of 5 runs, 10 loops each)\n",
      "418 µs ± 140 µs per loop (mean ± std. dev. of 5 runs, 10 loops each)\n",
      "630 µs ± 173 µs per loop (mean ± std. dev. of 5 runs, 10 loops each)\n",
      "446 µs ± 112 µs per loop (mean ± std. dev. of 5 runs, 10 loops each)\n",
      "450 µs ± 136 µs per loop (mean ± std. dev. of 5 runs, 10 loops each)\n",
      "401 µs ± 60.3 µs per loop (mean ± std. dev. of 5 runs, 10 loops each)\n",
      "377 µs ± 94.5 µs per loop (mean ± std. dev. of 5 runs, 10 loops each)\n",
      "385 µs ± 167 µs per loop (mean ± std. dev. of 5 runs, 10 loops each)\n"
     ]
    },
    {
     "data": {
      "image/png": "[encoded data removed]",
      "text/plain": [
       "<Figure size 432x288 with 1 Axes>"
      ]
     },
     "metadata": {
      "needs_background": "light"
     },
     "output_type": "display_data"
    }
   ],
   "source": [
    "time = []\n",
    "err = []\n",
    "for i in range(1,10):\n",
    "    average_time = %timeit -r 5 -n 10 -o sp.sparse.linalg.gmres(A2, b2, maxiter=i, atol=2.2e-16)\n",
    "    time.append(average_time.average)\n",
    "    err.append(average_time.stdev)\n",
    "x = [i for i in range(1,10)]\n",
    "plt.errorbar(x, time, yerr=err, linestyle=\"None\", marker=\"o\")\n",
    "plt.grid()\n",
    "plt.title(\"Metoda GMRES\")\n",
    "plt.xlabel(\"Liczba iteracji\")\n",
    "plt.ylabel(\"Czas wykonywania [s]\")\n",
    "plt.show()\n"
   ]
  },
  {
   "cell_type": "markdown",
   "metadata": {},
   "source": [
    "Czas wykonywania algorytmu jest względnie stały"
   ]
  },
  {
   "cell_type": "markdown",
   "metadata": {},
   "source": [
    "***Zadanie 7***   \n",
    "Rozwiąż układ równań z Zadania 3 podpunkt c) przy pomocy:\n",
    "\n",
    "- funkcji *[solve](https://docs.scipy.org/doc/numpy-1.15.1/reference/generated/numpy.linalg.solve.html?highlight=solve#numpy.linalg.solve)* z biblioteki numpy\n",
    "\n",
    "- zaimplementowanej iteracyjnej metody *solve_jacobi*\n",
    "\n",
    "- iteracyjnej metody *[gradientów sprzężonych](https://docs.scipy.org/doc/scipy/reference/generated/scipy.sparse.linalg.cg.html)*\n",
    " z biblioteki scipy\n",
    "\n",
    "- iteracyjnej metody *[GMRES](https://docs.scipy.org/doc/scipy/reference/generated/scipy.sparse.linalg.gmres.html)*\n",
    " z biblioteki scipy\n",
    "\n",
    "Przed każdą metodą sprawdź czy warunki dotyczące macierzy dla danej metody są spełnione. Zbadaj dokładność i czas obliczeń metod w zależności od liczby iteracji. Wyniki przedstaw na wykresach."
   ]
  },
  {
   "cell_type": "code",
   "execution_count": 17,
   "metadata": {},
   "outputs": [
    {
     "name": "stdout",
     "output_type": "stream",
     "text": [
      "2.8118247496203583e-14\n"
     ]
    }
   ],
   "source": [
    "# Funkcja solve\n",
    "if A3.shape[0] == A3.shape[1]:\n",
    "    result = np.linalg.solve(A3, b3)\n",
    "    norm = main.residual_norm(A3, result, b3)\n",
    "    print(norm)"
   ]
  },
  {
   "cell_type": "code",
   "execution_count": 18,
   "metadata": {},
   "outputs": [
    {
     "name": "stdout",
     "output_type": "stream",
     "text": [
      "35.31 µs ± 14.26 µs per loop (mean ± std. dev. of 10 runs, 1000 loops each)\n"
     ]
    }
   ],
   "source": [
    "%%timeit -n 1000 -r 10 -p 4\n",
    "result = np.linalg.solve(A3, b3)\n",
    "norm = main.residual_norm(A3, result, b3)"
   ]
  },
  {
   "cell_type": "code",
   "execution_count": 51,
   "metadata": {},
   "outputs": [
    {
     "name": "stdout",
     "output_type": "stream",
     "text": [
      "Macierz nie spełnia wymagań\n"
     ]
    }
   ],
   "source": [
    "# Funkcja solve_jacobi\n",
    "if main.is_diag_dominant(A3):\n",
    "    iter  = [i+1 for i in range(50)]\n",
    "    x_init = np.zeros((10, 1))\n",
    "    error = []\n",
    "    for i in iter:\n",
    "        result, end = main.solve_jacobi(A3, b3, x_init, maxiter=i, epsilon=2.2e-16)\n",
    "        error.append(main.residual_norm(A3, result, b3))\n",
    "    plt.scatter(iter, error)\n",
    "    plt.title(\"Metoda Jacobiego\")\n",
    "    plt.xlabel(\"Liczba iteracji\")\n",
    "    plt.ylabel(\"Norma residuum\")\n",
    "    plt.yscale('log')\n",
    "    plt.grid()\n",
    "    plt.show()\n",
    "else:\n",
    "    print(\"Macierz nie spełnia wymagań\")"
   ]
  },
  {
   "cell_type": "markdown",
   "metadata": {},
   "source": [
    "Macierz nie jest diagonalnie dominująca, więc nie spełnia ona warunków metody Jacobiego."
   ]
  },
  {
   "cell_type": "code",
   "execution_count": 52,
   "metadata": {},
   "outputs": [
    {
     "name": "stdout",
     "output_type": "stream",
     "text": [
      "Zbieżność rozwiązania - 0\n"
     ]
    },
    {
     "data": {
      "image/png": "[encoded data removed]",
      "text/plain": [
       "<Figure size 432x288 with 1 Axes>"
      ]
     },
     "metadata": {
      "needs_background": "light"
     },
     "output_type": "display_data"
    }
   ],
   "source": [
    "# Metoda gradientów sprzężonych\n",
    "error = []\n",
    "def callback_1(X):\n",
    "    error.append(np.linalg.norm(b3 - A3 @ X))\n",
    "\n",
    "if main.is_symmetric(A3):\n",
    "    result, bool= sp.sparse.linalg.cg(A3, b3, maxiter=15, callback=callback_1, atol=2.2e-16)\n",
    "    print(f\"Zbieżność rozwiązania - {bool}\")\n",
    "    m = len(error)\n",
    "    x = np.arange(1, m + 1, 1)\n",
    "    plt.scatter(x, error)\n",
    "    plt.title(\"Metoda gradientów sprzężonych\")\n",
    "    plt.xlabel(\"Liczba iteracji\")\n",
    "    plt.ylabel(\"Norma residuum\")\n",
    "    plt.yscale('log')\n",
    "    plt.grid()\n",
    "    plt.show()\n",
    "else:\n",
    "    print(\"Macierz nie spełnia wymagań\")   "
   ]
  },
  {
   "cell_type": "markdown",
   "metadata": {},
   "source": [
    "Skorzystanie z metody gradientów sprzężonych było możliwe, ponieważ macierz jest dodatnio określona (wszystkie minory są dodatnie)"
   ]
  },
  {
   "cell_type": "code",
   "execution_count": 85,
   "metadata": {},
   "outputs": [
    {
     "name": "stdout",
     "output_type": "stream",
     "text": [
      "162 µs ± 69.1 µs per loop (mean ± std. dev. of 5 runs, 10 loops each)\n",
      "174 µs ± 37.8 µs per loop (mean ± std. dev. of 5 runs, 10 loops each)\n",
      "247 µs ± 45.2 µs per loop (mean ± std. dev. of 5 runs, 10 loops each)\n",
      "563 µs ± 144 µs per loop (mean ± std. dev. of 5 runs, 10 loops each)\n",
      "538 µs ± 190 µs per loop (mean ± std. dev. of 5 runs, 10 loops each)\n",
      "532 µs ± 161 µs per loop (mean ± std. dev. of 5 runs, 10 loops each)\n",
      "478 µs ± 117 µs per loop (mean ± std. dev. of 5 runs, 10 loops each)\n",
      "551 µs ± 159 µs per loop (mean ± std. dev. of 5 runs, 10 loops each)\n",
      "528 µs ± 130 µs per loop (mean ± std. dev. of 5 runs, 10 loops each)\n"
     ]
    },
    {
     "data": {
      "image/png": "[encoded data removed]",
      "text/plain": [
       "<Figure size 432x288 with 1 Axes>"
      ]
     },
     "metadata": {
      "needs_background": "light"
     },
     "output_type": "display_data"
    }
   ],
   "source": [
    "time = []\n",
    "err = []\n",
    "for i in range(1,10):\n",
    "    average_time = %timeit -r 5 -n 10 -o sp.sparse.linalg.cg(A3, b3, maxiter=i, atol=2.2e-16)\n",
    "    time.append(average_time.average)\n",
    "    err.append(average_time.stdev)\n",
    "\n",
    "x = [i for i in range(1,10)]\n",
    "plt.errorbar(x, time, yerr=err, linestyle=\"None\", marker=\"o\")\n",
    "plt.title(\"Metoda gradientów sprzężonych\")\n",
    "plt.xlabel(\"Liczba iteracji\")\n",
    "plt.ylabel(\"Czas wykonywania [s]\")\n",
    "plt.grid()\n",
    "plt.show()"
   ]
  },
  {
   "cell_type": "markdown",
   "metadata": {},
   "source": [
    "Wraz ze wzrostem liczby iteracji, rośnie czas wykonywania się metody gradientów sprzężonych."
   ]
  },
  {
   "cell_type": "code",
   "execution_count": 57,
   "metadata": {},
   "outputs": [
    {
     "name": "stdout",
     "output_type": "stream",
     "text": [
      "Zbieżność rozwiązania - 0\n"
     ]
    },
    {
     "data": {
      "image/png": "[encoded data removed]",
      "text/plain": [
       "<Figure size 432x288 with 1 Axes>"
      ]
     },
     "metadata": {
      "needs_background": "light"
     },
     "output_type": "display_data"
    }
   ],
   "source": [
    "# Algorytm GMRES\n",
    "error = []\n",
    "def callback_1(X):\n",
    "    error.append(X)\n",
    "\n",
    "result, bool = sp.sparse.linalg.gmres(A3, b3, maxiter=15, callback=callback_1, atol=2.2e-16, callback_type='pr_norm')\n",
    "print(f\"Zbieżność rozwiązania - {bool}\")\n",
    "length = len(error)\n",
    "x = [i + 1 for i in range(length)]\n",
    "plt.scatter(x, error)\n",
    "plt.title(\"Metoda GMRES\")\n",
    "plt.xlabel(\"Liczba iteracji\")\n",
    "plt.ylabel(\"Norma residuum\")\n",
    "plt.yscale('log')\n",
    "plt.grid()\n",
    "plt.show()\n"
   ]
  },
  {
   "cell_type": "markdown",
   "metadata": {},
   "source": [
    "Podobnie jak w zadaniu 5, wraz ze wzrostem iteracji, dokładność nieznacznie rośnie, aż do pewnego momentu (10), gdzie dokładność znacząco rośnie."
   ]
  },
  {
   "cell_type": "code",
   "execution_count": 87,
   "metadata": {},
   "outputs": [
    {
     "name": "stdout",
     "output_type": "stream",
     "text": [
      "678 µs ± 205 µs per loop (mean ± std. dev. of 5 runs, 10 loops each)\n",
      "786 µs ± 248 µs per loop (mean ± std. dev. of 5 runs, 10 loops each)\n",
      "684 µs ± 271 µs per loop (mean ± std. dev. of 5 runs, 10 loops each)\n",
      "566 µs ± 167 µs per loop (mean ± std. dev. of 5 runs, 10 loops each)\n",
      "572 µs ± 138 µs per loop (mean ± std. dev. of 5 runs, 10 loops each)\n",
      "588 µs ± 110 µs per loop (mean ± std. dev. of 5 runs, 10 loops each)\n",
      "563 µs ± 149 µs per loop (mean ± std. dev. of 5 runs, 10 loops each)\n",
      "676 µs ± 154 µs per loop (mean ± std. dev. of 5 runs, 10 loops each)\n",
      "574 µs ± 44 µs per loop (mean ± std. dev. of 5 runs, 10 loops each)\n"
     ]
    },
    {
     "data": {
      "image/png": "[encoded data removed]",
      "text/plain": [
       "<Figure size 432x288 with 1 Axes>"
      ]
     },
     "metadata": {
      "needs_background": "light"
     },
     "output_type": "display_data"
    }
   ],
   "source": [
    "time = []\n",
    "err = []\n",
    "for i in range(1,10):\n",
    "    average_time = %timeit -r 5 -n 10 -o sp.sparse.linalg.gmres(A3, b3, maxiter=i, atol=2.2e-16)\n",
    "    time.append(average_time.average)\n",
    "    err.append(average_time.stdev)\n",
    "\n",
    "x = [i for i in range(1,10)]\n",
    "plt.errorbar(x, time, yerr=err, linestyle=\"None\", marker=\"o\")\n",
    "plt.title(\"Metoda GMRES\")\n",
    "plt.xlabel(\"Liczba iteracji\")\n",
    "plt.ylabel(\"Czas wykonywania [s]\")\n",
    "plt.grid()\n",
    "plt.show()\n",
    "\n"
   ]
  },
  {
   "cell_type": "markdown",
   "metadata": {},
   "source": [
    "Czas wykonywania jest względnie stały."
   ]
  },
  {
   "cell_type": "markdown",
   "metadata": {},
   "source": [
    "Wnioski: \n",
    "\n",
    "Zapoznano się z iteracyjnymi metodami rozwiązywania układów równań liniowych w postaci macierzowej. Rozwiązano 3 zadane układy równań (wszystkie stworzono używając wcześniej zaimplementowanych funkcji) czterema metodami:\n",
    "\n",
    "- funkcją solve z biblioteki numpy\n",
    "\n",
    "- zaimplementowaneną iteracyjną metodą solve_jacobi\n",
    "\n",
    "- iteracyjną metodą gradientów sprzężonych z biblioteki scipy\n",
    "\n",
    "- iteracyjną metodą GMRES z biblioteki scipy\n",
    "\n",
    "Przed każdą metodą sprawdzono, czy warunki dotyczące macierzy dla danej metody są spełnione. Ponadto, zbadano dokładność (przy pomocy funkcji resiual_norm z poprzednich laboratoriów) i czas obliczeń metod w zależności od liczby iteracji. Wyniki przedstawiono na wykresach.\n"
   ]
  },
  {
   "cell_type": "markdown",
   "metadata": {},
   "source": [
    "Materiały uzupełniające:\n",
    "- [Scipy Lecture Notes](http://www.scipy-lectures.org/index.html)\n",
    "- [NumPy for Matlab users](https://docs.scipy.org/doc/numpy/user/numpy-for-matlab-users.html#numpy-for-matlab-users)\n",
    "- [Python Tutorial - W3Schools](https://www.w3schools.com/python/default.asp)\n",
    "- [NumPy](https://www.numpy.org)\n",
    "- [Matplotlib](https://matplotlib.org/)\n",
    "- [Anaconda](https://www.anaconda.com/)\n",
    "- [Learn Python for Data Science](https://www.datacamp.com/learn-python-with-anaconda?utm_source=Anaconda_download&utm_campaign=datacamp_training&utm_medium=banner)\n",
    "- [Learn Python](https://www.learnpython.org/)\n",
    "- [Wujek Google](https://google.pl) i [Ciocia Wikipedia](https://pl.wikipedia.org/wiki/Wikipedia:Strona_g%C5%82%C3%B3wna)"
   ]
  }
 ],
 "metadata": {
  "kernelspec": {
   "display_name": "Python 3",
   "language": "python",
   "name": "python3"
  },
  "language_info": {
   "codemirror_mode": {
    "name": "ipython",
    "version": 3
   },
   "file_extension": ".py",
   "mimetype": "text/x-python",
   "name": "python",
   "nbconvert_exporter": "python",
   "pygments_lexer": "ipython3",
   "version": "3.9.0"
  }
 },
 "nbformat": 4,
 "nbformat_minor": 2
}
